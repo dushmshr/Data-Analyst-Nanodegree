{
 "cells": [
  {
   "cell_type": "markdown",
   "metadata": {},
   "source": [
    "# Exploratory Data Analysis using SQLite"
   ]
  },
  {
   "cell_type": "code",
   "execution_count": 45,
   "metadata": {
    "collapsed": true
   },
   "outputs": [],
   "source": [
    "# All the imports done here\n",
    "import os\n",
    "import sqlite3\n",
    "import csv\n",
    "import pprint"
   ]
  },
  {
   "cell_type": "code",
   "execution_count": 42,
   "metadata": {
    "collapsed": true
   },
   "outputs": [],
   "source": [
    "# file locations\n",
    "file_location = \"/Users/Raj/Root/GitHub/__Datasets__/OSM/processed-osm\"\n",
    "DATABASE_FILE = file_location+\"/chicago_osm_sqlite3_database.db\"\n",
    "CSV_FILES_LOCATION = file_location+\"/csv-files\""
   ]
  },
  {
   "cell_type": "code",
   "execution_count": 75,
   "metadata": {
    "collapsed": true
   },
   "outputs": [],
   "source": [
    "# establishing sqlite3 connection\n",
    "con = sqlite3.connect(DATABASE_FILE)\n",
    "con.text_factory = str\n",
    "cur = con.cursor()"
   ]
  },
  {
   "cell_type": "code",
   "execution_count": 74,
   "metadata": {},
   "outputs": [],
   "source": [
    "def print_file_size():\n",
    "    csv_file_names = os.listdir(CSV_FILES_LOCATION)\n",
    "    file_paths = [os.path.join(CSV_FILES_LOCATION, name) for name in csv_file_names \n",
    "                 if name != '.DS_Store']\n",
    "    file_paths.insert(0, DATABASE_FILE)\n",
    "    file_size = [str(path.replace(file_location, \"\"))+\" ==> \"+\n",
    "                     str(os.stat(path).st_size/1000000)+\" MB\" \n",
    "                 for path in file_paths]\n",
    "    pprint.pprint(file_size)"
   ]
  },
  {
   "cell_type": "code",
   "execution_count": 73,
   "metadata": {},
   "outputs": [
    {
     "name": "stdout",
     "output_type": "stream",
     "text": [
      "['/chicago_osm_sqlite3_database.db ==> 1249.3568 MB',\n",
      " '/csv-files/ways_tags.csv ==> 227.410062 MB',\n",
      " '/csv-files/nodes_tags.csv ==> 13.599578 MB',\n",
      " '/csv-files/nodes.csv ==> 787.316953 MB',\n",
      " '/csv-files/ways.csv ==> 82.570584 MB',\n",
      " '/csv-files/ways_nodes.csv ==> 254.503969 MB']\n"
     ]
    }
   ],
   "source": [
    "print_file_size()"
   ]
  },
  {
   "cell_type": "markdown",
   "metadata": {},
   "source": [
    "#### Getting the total number of Nodes"
   ]
  },
  {
   "cell_type": "code",
   "execution_count": 78,
   "metadata": {},
   "outputs": [
    {
     "name": "stdout",
     "output_type": "stream",
     "text": [
      "8955919\n"
     ]
    }
   ],
   "source": [
    "query_result = cur.execute('SELECT COUNT(*) FROM Nodes')\n",
    "print(query_result.fetchone()[0])"
   ]
  },
  {
   "cell_type": "markdown",
   "metadata": {},
   "source": [
    "#### Number of ways"
   ]
  },
  {
   "cell_type": "code",
   "execution_count": 153,
   "metadata": {},
   "outputs": [
    {
     "name": "stdout",
     "output_type": "stream",
     "text": [
      "1272994\n"
     ]
    }
   ],
   "source": [
    "query_result = cur.execute('SELECT COUNT(*) FROM Ways')\n",
    "print(query_result.fetchone()[0])"
   ]
  },
  {
   "cell_type": "markdown",
   "metadata": {},
   "source": [
    "#### Number of Unique users"
   ]
  },
  {
   "cell_type": "code",
   "execution_count": 85,
   "metadata": {},
   "outputs": [
    {
     "name": "stdout",
     "output_type": "stream",
     "text": [
      "3100\n"
     ]
    }
   ],
   "source": [
    "query = \"\"\"SELECT COUNT(DISTINCT(w.uid)) \n",
    "            FROM (SELECT uid FROM Nodes UNION ALL SELECT uid FROM Ways) w\"\"\"\n",
    "query_result = cur.execute(query)\n",
    "print(query_result.fetchone()[0])"
   ]
  },
  {
   "cell_type": "markdown",
   "metadata": {},
   "source": [
    "#### Top 10 contributing users"
   ]
  },
  {
   "cell_type": "code",
   "execution_count": 91,
   "metadata": {},
   "outputs": [
    {
     "name": "stdout",
     "output_type": "stream",
     "text": [
      "[('chicago-buildings', 5594296),\n",
      " ('Umbugbene', 1077746),\n",
      " ('woodpeck_fixbot', 212103),\n",
      " ('alexrudd (NHD)', 196117),\n",
      " ('g246020', 135168),\n",
      " ('mpinnau', 104045),\n",
      " ('patester24', 102645),\n",
      " ('Oak_Park_IL', 101062),\n",
      " ('asdf1234', 98634),\n",
      " ('Zol87', 95271)]\n"
     ]
    }
   ],
   "source": [
    "users = list()\n",
    "query = \"\"\"SELECT e.user, COUNT(*) as num\n",
    "            FROM (SELECT user FROM Nodes UNION ALL SELECT user FROM Ways) e\n",
    "            GROUP BY e.user\n",
    "            ORDER BY num DESC\n",
    "            LIMIT 10\"\"\"\n",
    "for row in cur.execute(query):\n",
    "    users.append(row)\n",
    "pprint.pprint(users)"
   ]
  },
  {
   "cell_type": "markdown",
   "metadata": {},
   "source": [
    "#### Boundary of Chicago City\n",
    "By looking at the top 10 surrounding cities we can get a sense of boundary are of Chicago city."
   ]
  },
  {
   "cell_type": "code",
   "execution_count": 144,
   "metadata": {},
   "outputs": [
    {
     "name": "stdout",
     "output_type": "stream",
     "text": [
      "('Evanston', 17012)\n",
      "('Chicago', 3816)\n",
      "('Naperville', 2282)\n",
      "('River Forest', 1738)\n",
      "('Island Lake', 1259)\n",
      "('Buffalo Grove', 847)\n",
      "('Lombard', 603)\n",
      "('Hoffman Estates', 532)\n",
      "('Hinsdale', 464)\n",
      "('Skokie', 435)\n"
     ]
    }
   ],
   "source": [
    "query = \"\"\"SELECT tags.value, COUNT(*) as count \n",
    "            FROM (SELECT * FROM nodesTags UNION ALL \n",
    "                  SELECT * FROM waysTags) tags\n",
    "            WHERE tags.key LIKE '%city'\n",
    "            GROUP BY tags.value\n",
    "            ORDER BY count DESC\n",
    "            LIMIT 10;\n",
    "            \"\"\"\n",
    "for row in cur.execute(query):\n",
    "    print(row)"
   ]
  },
  {
   "cell_type": "markdown",
   "metadata": {},
   "source": [
    "#### Cafes and Restaurants"
   ]
  },
  {
   "cell_type": "code",
   "execution_count": 152,
   "metadata": {},
   "outputs": [
    {
     "name": "stdout",
     "output_type": "stream",
     "text": [
      "('cafe', 581)\n",
      "('hotel', 447)\n",
      "('pub', 227)\n",
      "('restaurant', 2560)\n"
     ]
    }
   ],
   "source": [
    "query = \"\"\"SELECT value, COUNT(*)\n",
    "            FROM (SELECT * from nodesTags as T UNION ALL \n",
    "                  SELECT * from waysTags as Z) as Q\n",
    "            WHERE (value = 'restaurant' OR value = 'hotel' OR  \n",
    "                   value = 'pub' OR value = 'cafe')\n",
    "            GROUP BY value;\"\"\"\n",
    "for row in cur.execute(query):\n",
    "    print(row)"
   ]
  },
  {
   "cell_type": "markdown",
   "metadata": {},
   "source": [
    "#### Common Amenities"
   ]
  },
  {
   "cell_type": "code",
   "execution_count": 109,
   "metadata": {},
   "outputs": [
    {
     "name": "stdout",
     "output_type": "stream",
     "text": [
      "('place_of_worship', 2980)\n",
      "('school', 1827)\n",
      "('restaurant', 1765)\n",
      "('fast_food', 943)\n",
      "('bench', 646)\n",
      "('parking', 578)\n",
      "('bicycle_parking', 499)\n",
      "('cafe', 488)\n",
      "('fuel', 404)\n",
      "('bicycle_rental', 392)\n",
      "('drinking_water', 327)\n",
      "('bank', 324)\n",
      "('bar', 289)\n",
      "('fountain', 254)\n",
      "('shelter', 232)\n",
      "('waste_basket', 224)\n",
      "('toilets', 221)\n",
      "('grave_yard', 204)\n",
      "('fire_station', 180)\n",
      "('pub', 170)\n",
      "('pharmacy', 163)\n",
      "('post_box', 162)\n",
      "('post_office', 150)\n",
      "('library', 126)\n",
      "('atm', 96)\n",
      "('police', 85)\n",
      "('townhall', 82)\n",
      "('dentist', 67)\n",
      "('theatre', 53)\n",
      "('doctors', 46)\n"
     ]
    }
   ],
   "source": [
    "query = \"\"\"SELECT value, COUNT(*) as num \\\n",
    "            FROM nodesTags \\\n",
    "            WHERE key=\"amenity\" \\\n",
    "            GROUP BY value \\\n",
    "            ORDER BY num DESC \\\n",
    "            LIMIT 30\"\"\"\n",
    "for row in cur.execute(query):\n",
    "    print(row)"
   ]
  },
  {
   "cell_type": "markdown",
   "metadata": {},
   "source": [
    "#### Pharmacies in the city"
   ]
  },
  {
   "cell_type": "code",
   "execution_count": 112,
   "metadata": {},
   "outputs": [
    {
     "name": "stdout",
     "output_type": "stream",
     "text": [
      "('Walgreens', 84)\n",
      "('CVS', 28)\n",
      "(\"Walgreen's\", 16)\n",
      "('CVS Pharmacy', 14)\n",
      "('Osco', 2)\n"
     ]
    }
   ],
   "source": [
    "query = \"\"\"SELECT nodesTags.value, COUNT(*) as num\n",
    "        FROM nodesTags\n",
    "            JOIN (SELECT DISTINCT(id) FROM nodesTags WHERE value='pharmacy') i\n",
    "            ON nodesTags.id=i.id\n",
    "        WHERE nodesTags.key='name'\n",
    "        GROUP BY nodesTags.value\n",
    "        ORDER BY num DESC\n",
    "        LIMIT 5;\"\"\"\n",
    "for row in cur.execute(query):\n",
    "    print(row)"
   ]
  },
  {
   "cell_type": "markdown",
   "metadata": {},
   "source": [
    "#### Most number of coffee shops"
   ]
  },
  {
   "cell_type": "code",
   "execution_count": 155,
   "metadata": {},
   "outputs": [
    {
     "name": "stdout",
     "output_type": "stream",
     "text": [
      "('Starbucks', 60)\n",
      "('Starbucks Coffee', 18)\n",
      "(\"Dunkin' Donuts\", 13)\n",
      "(\"Peet's Coffee & Tea\", 6)\n",
      "('Caribou Coffee', 4)\n"
     ]
    }
   ],
   "source": [
    "query = \"\"\"SELECT nodesTags.value, COUNT(*) as num\n",
    "        FROM nodesTags\n",
    "            JOIN (SELECT DISTINCT(id) FROM nodesTags WHERE value LIKE '%Coffee%') i\n",
    "            ON nodesTags.id=i.id\n",
    "        WHERE nodesTags.key='name'\n",
    "        GROUP BY nodesTags.value\n",
    "        ORDER BY num DESC\n",
    "        LIMIT 5;\"\"\"\n",
    "for row in cur.execute(query):\n",
    "    print(row)"
   ]
  },
  {
   "cell_type": "markdown",
   "metadata": {},
   "source": [
    "#### Popular Cuisines"
   ]
  },
  {
   "cell_type": "code",
   "execution_count": 97,
   "metadata": {},
   "outputs": [
    {
     "name": "stdout",
     "output_type": "stream",
     "text": [
      "('pizza', 149)\n",
      "('mexican', 129)\n",
      "('american', 84)\n",
      "('italian', 64)\n",
      "('chinese', 61)\n",
      "('burger', 47)\n",
      "('sandwich', 44)\n",
      "('thai', 35)\n",
      "('japanese', 29)\n",
      "('indian', 23)\n"
     ]
    }
   ],
   "source": [
    "query = \"\"\"SELECT nodesTags.value, COUNT(*) as num\n",
    "        FROM nodesTags\n",
    "            JOIN (SELECT DISTINCT(id) FROM nodesTags WHERE value='restaurant') i\n",
    "            ON nodesTags.id=i.id\n",
    "        WHERE nodesTags.key='cuisine'\n",
    "        GROUP BY nodesTags.value\n",
    "        ORDER BY num DESC\n",
    "        LIMIT 10;\"\"\"\n",
    "for row in cur.execute(query):\n",
    "    print(row)"
   ]
  },
  {
   "cell_type": "markdown",
   "metadata": {},
   "source": [
    "#### Most Popular Fast Food Joints"
   ]
  },
  {
   "cell_type": "code",
   "execution_count": 132,
   "metadata": {},
   "outputs": [
    {
     "name": "stdout",
     "output_type": "stream",
     "text": [
      "('Subway', 122)\n",
      "(\"McDonald's\", 95)\n",
      "('Burger King', 39)\n",
      "(\"Dunkin' Donuts\", 36)\n",
      "(\"Jimmy John's\", 35)\n"
     ]
    }
   ],
   "source": [
    "query = \"\"\"SELECT nodesTags.value, COUNT(*) as num\n",
    "        FROM nodesTags\n",
    "            JOIN (SELECT DISTINCT(id) FROM nodesTags WHERE value='fast_food') i\n",
    "            ON nodesTags.id=i.id\n",
    "        WHERE nodesTags.key='name'\n",
    "        GROUP BY nodesTags.value\n",
    "        ORDER BY num DESC\n",
    "        LIMIT 5;\"\"\"\n",
    "for row in cur.execute(query):\n",
    "    print(row)"
   ]
  },
  {
   "cell_type": "markdown",
   "metadata": {},
   "source": [
    "#### Most Popular Banks"
   ]
  },
  {
   "cell_type": "code",
   "execution_count": 102,
   "metadata": {},
   "outputs": [
    {
     "name": "stdout",
     "output_type": "stream",
     "text": [
      "('Chase', 64)\n",
      "('Bank of America', 26)\n",
      "('Citibank', 14)\n",
      "('BMO Harris Bank', 13)\n",
      "('PNC Bank', 12)\n"
     ]
    }
   ],
   "source": [
    "query = \"\"\"SELECT nodesTags.value, COUNT(*) as num\n",
    "        FROM nodesTags\n",
    "            JOIN (SELECT DISTINCT(id) FROM nodesTags WHERE value='bank') i\n",
    "            ON nodesTags.id=i.id\n",
    "        WHERE nodesTags.key='name'\n",
    "        GROUP BY nodesTags.value\n",
    "        ORDER BY num DESC\n",
    "        LIMIT 5;\"\"\"\n",
    "for row in cur.execute(query):\n",
    "    print(row)"
   ]
  },
  {
   "cell_type": "markdown",
   "metadata": {},
   "source": [
    "#### Biggest Religion based on Place of Worship"
   ]
  },
  {
   "cell_type": "code",
   "execution_count": 161,
   "metadata": {},
   "outputs": [
    {
     "name": "stdout",
     "output_type": "stream",
     "text": [
      "('christian', 2817)\n",
      "('jewish', 37)\n",
      "('muslim', 8)\n",
      "('buddhist', 7)\n",
      "('unitarian_universalist', 4)\n",
      "('hindu', 3)\n"
     ]
    }
   ],
   "source": [
    "query = \"\"\"SELECT nodesTags.value, COUNT(*) as num \\\n",
    "            FROM nodesTags \\\n",
    "                JOIN (SELECT DISTINCT(id) FROM nodesTags WHERE value=\"place_of_worship\") i \\\n",
    "                ON nodesTags.id=i.id \\\n",
    "            WHERE nodesTags.key=\"religion\" \\\n",
    "            GROUP BY nodesTags.value \\\n",
    "            ORDER BY num DESC \\\n",
    "            LIMIT 10;\"\"\"\n",
    "for row in cur.execute(query):\n",
    "    print(row)"
   ]
  },
  {
   "cell_type": "code",
   "execution_count": null,
   "metadata": {
    "collapsed": true
   },
   "outputs": [],
   "source": []
  },
  {
   "cell_type": "code",
   "execution_count": null,
   "metadata": {
    "collapsed": true
   },
   "outputs": [],
   "source": []
  },
  {
   "cell_type": "code",
   "execution_count": null,
   "metadata": {
    "collapsed": true
   },
   "outputs": [],
   "source": []
  },
  {
   "cell_type": "markdown",
   "metadata": {},
   "source": [
    "---"
   ]
  },
  {
   "cell_type": "code",
   "execution_count": 137,
   "metadata": {},
   "outputs": [
    {
     "name": "stdout",
     "output_type": "stream",
     "text": [
      "('Starbucks', 60)\n",
      "('Starbucks Coffee', 18)\n",
      "(\"Dunkin' Donuts\", 13)\n",
      "(\"Peet's Coffee & Tea\", 6)\n",
      "('Caribou Coffee', 4)\n",
      "('Dunkin Donuts', 4)\n",
      "('Bow Truss Coffee Roasters', 2)\n",
      "('Dollop Coffee', 2)\n",
      "('Intelligentsia', 2)\n",
      "('Intelligentsia Coffee', 2)\n",
      "(\"Starbuck's\", 2)\n",
      "('Berrista Coffee', 1)\n",
      "('Big Shoulders Coffee', 1)\n",
      "('Blackberry Market', 1)\n",
      "('Blue Box Cafe', 1)\n"
     ]
    }
   ],
   "source": [
    "query = \"\"\"SELECT nodesTags.value, COUNT(*) as num\n",
    "        FROM nodesTags\n",
    "            JOIN (SELECT DISTINCT(id) FROM nodesTags WHERE value LIKE '%Coffee%') i\n",
    "            ON nodesTags.id=i.id\n",
    "        WHERE nodesTags.key='name'\n",
    "        GROUP BY nodesTags.value\n",
    "        ORDER BY num DESC\n",
    "        LIMIT 15;\"\"\"\n",
    "for row in cur.execute(query):\n",
    "    print(row)"
   ]
  },
  {
   "cell_type": "code",
   "execution_count": null,
   "metadata": {
    "collapsed": true
   },
   "outputs": [],
   "source": []
  },
  {
   "cell_type": "code",
   "execution_count": 148,
   "metadata": {},
   "outputs": [
    {
     "name": "stdout",
     "output_type": "stream",
     "text": [
      "('cafe', 581)\n",
      "('hotel', 447)\n",
      "('pub', 227)\n",
      "('restaurant', 2560)\n"
     ]
    }
   ],
   "source": [
    "query = \"\"\"SELECT value, COUNT(*)\n",
    "            FROM (SELECT * from nodesTags as T UNION ALL \n",
    "                  SELECT * from waysTags as Z) as Q\n",
    "            WHERE (value = 'restaurant' OR value = 'hotel' OR  \n",
    "                   value = 'pub' OR value = 'cafe')\n",
    "            GROUP BY value;\"\"\"\n",
    "for row in cur.execute(query):\n",
    "    print(row)"
   ]
  },
  {
   "cell_type": "code",
   "execution_count": 143,
   "metadata": {},
   "outputs": [
    {
     "name": "stdout",
     "output_type": "stream",
     "text": [
      "('Evanston', 17012)\n",
      "('Chicago', 3816)\n",
      "('Naperville', 2282)\n",
      "('River Forest', 1738)\n",
      "('Island Lake', 1259)\n",
      "('Buffalo Grove', 847)\n",
      "('Lombard', 603)\n",
      "('Hoffman Estates', 532)\n",
      "('Hinsdale', 464)\n",
      "('Skokie', 435)\n"
     ]
    }
   ],
   "source": []
  },
  {
   "cell_type": "code",
   "execution_count": null,
   "metadata": {
    "collapsed": true
   },
   "outputs": [],
   "source": []
  },
  {
   "cell_type": "code",
   "execution_count": null,
   "metadata": {
    "collapsed": true
   },
   "outputs": [],
   "source": []
  },
  {
   "cell_type": "code",
   "execution_count": null,
   "metadata": {
    "collapsed": true
   },
   "outputs": [],
   "source": []
  }
 ],
 "metadata": {
  "kernelspec": {
   "display_name": "Python [conda env:python3.6]",
   "language": "python",
   "name": "conda-env-python3.6-py"
  },
  "language_info": {
   "codemirror_mode": {
    "name": "ipython",
    "version": 3
   },
   "file_extension": ".py",
   "mimetype": "text/x-python",
   "name": "python",
   "nbconvert_exporter": "python",
   "pygments_lexer": "ipython3",
   "version": "3.6.2"
  }
 },
 "nbformat": 4,
 "nbformat_minor": 2
}
