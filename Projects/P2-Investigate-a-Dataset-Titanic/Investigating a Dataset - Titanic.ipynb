{
 "cells": [
  {
   "cell_type": "markdown",
   "metadata": {},
   "source": [
    "# Investigating a Dataset - Titanic "
   ]
  },
  {
   "cell_type": "markdown",
   "metadata": {
    "collapsed": true
   },
   "source": [
    "## Introduction"
   ]
  },
  {
   "cell_type": "markdown",
   "metadata": {
    "collapsed": true
   },
   "source": [
    "RMS Titanic was a British passenger liner that sank in the North Atlantic Ocean in the early morning hours of 15 April 1912, after it collided with an iceberg during its maiden voyage from Southampton to New York City. There were an estimated 2,224 passengers and crew aboard the ship, and more than 1,500 died, making it one of the deadliest commercial peacetime maritime disasters in modern history. The sinking of the RMS Titanic is one of the most infamous shipwrecks in history. This sensational tragedy shocked the international community and led to better safety regulations for ships.\n",
    "\n",
    "One of the reasons that the shipwreck led to such loss of life was that there were not enough lifeboats for the passengers and crew. Although there was some element of luck involved in surviving the sinking, some groups of people were more likely to survive than others, such as women, children, and the upper-class. [[6,2](#Refernces)]"
   ]
  },
  {
   "cell_type": "markdown",
   "metadata": {
    "collapsed": true
   },
   "source": [
    "In this notebook I will analyze the dataset and try to find out what sorts of people were likely to survive. I will be using my learnings from the first section of my [Udaycity's Data Analyst Nanodegree](https://www.udacity.com/course/data-analyst-nanodegree--nd002) to solve this project."
   ]
  },
  {
   "cell_type": "markdown",
   "metadata": {},
   "source": [
    "## About the Dataset"
   ]
  },
  {
   "cell_type": "markdown",
   "metadata": {},
   "source": [
    "The dataset Contains demographics and passenger information from 891 of the 2224 passengers and crew on board the Titanic. More information about this dataset can be found on the [Kaggle website](https://www.kaggle.com/c/titanic/data), where the data was obtained. There are 891 rows and 12 columns in the dataset.\n",
    "\n",
    "**Here are the fields in the dataset:**\n",
    "\n",
    "* **PassengerId**  - Id of the passengers ranging from 1 to 890.\n",
    "* **Survived**     - Tells if the passengers survived or not, 0 stands for not survived and 1 for survived.\n",
    "* **Pclass**       - Ticket class, It is the proxy for Socio Economic status, 1 = 1st; 2 = 2nd; 3 = 3rd class respectively.\n",
    "* **Name**         - Name of the passenger.\n",
    "* **Sex**          - Sex of the passenger.\n",
    "* **Age**          - Age of the passenger in years.\n",
    "* **SibSp**        - # of siblings / spouses aboard the Titanic.\n",
    "* **Parch**        - # of parents / children aboard the Titanic.\n",
    "* **Ticket**       - Ticket number.\n",
    "* **Fare**         - Passenger fare\n",
    "* **Cabin**        - Cabin number\n",
    "* **Embarked**     - Port of Embarkation\tC = Cherbourg, Q = Queenstown, S = Southampton"
   ]
  },
  {
   "cell_type": "markdown",
   "metadata": {},
   "source": [
    "## Questions"
   ]
  },
  {
   "cell_type": "markdown",
   "metadata": {},
   "source": [
    "Before begning to work on the dataset we shall give our analyses a certain direction by asking few questions about the data:\n",
    "1. Did women and children had a better chance of survival?\n",
    "2. Is age a factor for the survival of the passengers on board?\n",
    "3. Does the Socio economic status relates to the chances of survival?\n",
    "4. How does the number of parents/children and siblings/spouces relate to the survival rate?\n",
    "5. Is port of embarkation related to the Fare paid or does it relate to the chance of survival?"
   ]
  },
  {
   "cell_type": "markdown",
   "metadata": {},
   "source": [
    "---"
   ]
  },
  {
   "cell_type": "markdown",
   "metadata": {},
   "source": [
    "## Data Wrangling"
   ]
  },
  {
   "cell_type": "code",
   "execution_count": 1,
   "metadata": {
    "collapsed": true
   },
   "outputs": [],
   "source": [
    "# Importing all the dependencies\n",
    "\n",
    "import pandas as pd\n",
    "import numpy as np\n",
    "\n",
    "import seaborn as sns\n",
    "import matplotlib.pyplot as plt\n",
    "%matplotlib inline"
   ]
  },
  {
   "cell_type": "code",
   "execution_count": 2,
   "metadata": {},
   "outputs": [
    {
     "data": {
      "text/html": [
       "<div>\n",
       "<style>\n",
       "    .dataframe thead tr:only-child th {\n",
       "        text-align: right;\n",
       "    }\n",
       "\n",
       "    .dataframe thead th {\n",
       "        text-align: left;\n",
       "    }\n",
       "\n",
       "    .dataframe tbody tr th {\n",
       "        vertical-align: top;\n",
       "    }\n",
       "</style>\n",
       "<table border=\"1\" class=\"dataframe\">\n",
       "  <thead>\n",
       "    <tr style=\"text-align: right;\">\n",
       "      <th></th>\n",
       "      <th>PassengerId</th>\n",
       "      <th>Survived</th>\n",
       "      <th>Pclass</th>\n",
       "      <th>Name</th>\n",
       "      <th>Sex</th>\n",
       "      <th>Age</th>\n",
       "      <th>SibSp</th>\n",
       "      <th>Parch</th>\n",
       "      <th>Ticket</th>\n",
       "      <th>Fare</th>\n",
       "      <th>Cabin</th>\n",
       "      <th>Embarked</th>\n",
       "    </tr>\n",
       "  </thead>\n",
       "  <tbody>\n",
       "    <tr>\n",
       "      <th>0</th>\n",
       "      <td>1</td>\n",
       "      <td>0</td>\n",
       "      <td>3</td>\n",
       "      <td>Braund, Mr. Owen Harris</td>\n",
       "      <td>male</td>\n",
       "      <td>22.0</td>\n",
       "      <td>1</td>\n",
       "      <td>0</td>\n",
       "      <td>A/5 21171</td>\n",
       "      <td>7.2500</td>\n",
       "      <td>NaN</td>\n",
       "      <td>S</td>\n",
       "    </tr>\n",
       "    <tr>\n",
       "      <th>1</th>\n",
       "      <td>2</td>\n",
       "      <td>1</td>\n",
       "      <td>1</td>\n",
       "      <td>Cumings, Mrs. John Bradley (Florence Briggs Th...</td>\n",
       "      <td>female</td>\n",
       "      <td>38.0</td>\n",
       "      <td>1</td>\n",
       "      <td>0</td>\n",
       "      <td>PC 17599</td>\n",
       "      <td>71.2833</td>\n",
       "      <td>C85</td>\n",
       "      <td>C</td>\n",
       "    </tr>\n",
       "    <tr>\n",
       "      <th>2</th>\n",
       "      <td>3</td>\n",
       "      <td>1</td>\n",
       "      <td>3</td>\n",
       "      <td>Heikkinen, Miss. Laina</td>\n",
       "      <td>female</td>\n",
       "      <td>26.0</td>\n",
       "      <td>0</td>\n",
       "      <td>0</td>\n",
       "      <td>STON/O2. 3101282</td>\n",
       "      <td>7.9250</td>\n",
       "      <td>NaN</td>\n",
       "      <td>S</td>\n",
       "    </tr>\n",
       "    <tr>\n",
       "      <th>3</th>\n",
       "      <td>4</td>\n",
       "      <td>1</td>\n",
       "      <td>1</td>\n",
       "      <td>Futrelle, Mrs. Jacques Heath (Lily May Peel)</td>\n",
       "      <td>female</td>\n",
       "      <td>35.0</td>\n",
       "      <td>1</td>\n",
       "      <td>0</td>\n",
       "      <td>113803</td>\n",
       "      <td>53.1000</td>\n",
       "      <td>C123</td>\n",
       "      <td>S</td>\n",
       "    </tr>\n",
       "    <tr>\n",
       "      <th>4</th>\n",
       "      <td>5</td>\n",
       "      <td>0</td>\n",
       "      <td>3</td>\n",
       "      <td>Allen, Mr. William Henry</td>\n",
       "      <td>male</td>\n",
       "      <td>35.0</td>\n",
       "      <td>0</td>\n",
       "      <td>0</td>\n",
       "      <td>373450</td>\n",
       "      <td>8.0500</td>\n",
       "      <td>NaN</td>\n",
       "      <td>S</td>\n",
       "    </tr>\n",
       "  </tbody>\n",
       "</table>\n",
       "</div>"
      ],
      "text/plain": [
       "   PassengerId  Survived  Pclass  \\\n",
       "0            1         0       3   \n",
       "1            2         1       1   \n",
       "2            3         1       3   \n",
       "3            4         1       1   \n",
       "4            5         0       3   \n",
       "\n",
       "                                                Name     Sex   Age  SibSp  \\\n",
       "0                            Braund, Mr. Owen Harris    male  22.0      1   \n",
       "1  Cumings, Mrs. John Bradley (Florence Briggs Th...  female  38.0      1   \n",
       "2                             Heikkinen, Miss. Laina  female  26.0      0   \n",
       "3       Futrelle, Mrs. Jacques Heath (Lily May Peel)  female  35.0      1   \n",
       "4                           Allen, Mr. William Henry    male  35.0      0   \n",
       "\n",
       "   Parch            Ticket     Fare Cabin Embarked  \n",
       "0      0         A/5 21171   7.2500   NaN        S  \n",
       "1      0          PC 17599  71.2833   C85        C  \n",
       "2      0  STON/O2. 3101282   7.9250   NaN        S  \n",
       "3      0            113803  53.1000  C123        S  \n",
       "4      0            373450   8.0500   NaN        S  "
      ]
     },
     "execution_count": 2,
     "metadata": {},
     "output_type": "execute_result"
    }
   ],
   "source": [
    "# Loading the titanic dataset\n",
    "dataset = 'titanic-data.csv'\n",
    "df = pd.read_csv(dataset)\n",
    "\n",
    "# Lets print first few columns of the dataset\n",
    "df.head()"
   ]
  },
  {
   "cell_type": "markdown",
   "metadata": {},
   "source": [
    "Lets print a consice summary of the dataframe, to see what are the columns, datatypes and how many values are missing from the columns."
   ]
  },
  {
   "cell_type": "code",
   "execution_count": 3,
   "metadata": {},
   "outputs": [
    {
     "name": "stdout",
     "output_type": "stream",
     "text": [
      "<class 'pandas.core.frame.DataFrame'>\n",
      "RangeIndex: 891 entries, 0 to 890\n",
      "Data columns (total 12 columns):\n",
      "PassengerId    891 non-null int64\n",
      "Survived       891 non-null int64\n",
      "Pclass         891 non-null int64\n",
      "Name           891 non-null object\n",
      "Sex            891 non-null object\n",
      "Age            714 non-null float64\n",
      "SibSp          891 non-null int64\n",
      "Parch          891 non-null int64\n",
      "Ticket         891 non-null object\n",
      "Fare           891 non-null float64\n",
      "Cabin          204 non-null object\n",
      "Embarked       889 non-null object\n",
      "dtypes: float64(2), int64(5), object(5)\n",
      "memory usage: 83.6+ KB\n"
     ]
    }
   ],
   "source": [
    "df.info()"
   ]
  },
  {
   "cell_type": "markdown",
   "metadata": {},
   "source": [
    "We can see from the above information that the values for **Embarked** and **Age** are missing in few columns, and there are only 204 values present in the **Cabin** column, there are almost 687 values missing in that column, which is a huge number."
   ]
  },
  {
   "cell_type": "markdown",
   "metadata": {
    "collapsed": true
   },
   "source": [
    "### Handling the Missing Values"
   ]
  },
  {
   "cell_type": "markdown",
   "metadata": {},
   "source": [
    "### 1. Age"
   ]
  },
  {
   "cell_type": "markdown",
   "metadata": {},
   "source": [
    "There are only 714 columns present in the data corresponding to the passengers **Age**, there are 177 values missing from the Age column. Lets discover more about the missing values in the Age column."
   ]
  },
  {
   "cell_type": "code",
   "execution_count": 4,
   "metadata": {},
   "outputs": [
    {
     "name": "stdout",
     "output_type": "stream",
     "text": [
      "There are 53 values missing from the Age column for Females and 124 values missing for males.\n"
     ]
    }
   ],
   "source": [
    "# Lets create a boolean list to store the missing values in the Age column\n",
    "missing_age = pd.isnull(df['Age'])\n",
    "missing_age_female = df[missing_age]['Sex'] == 'female'\n",
    "missing_age_male = df[missing_age]['Sex'] == 'male'\n",
    "\n",
    "print 'There are',missing_age_female.sum(), 'values missing from the Age column for Females and'\\\n",
    ", missing_age_male.sum(), 'values missing for males.'"
   ]
  },
  {
   "cell_type": "markdown",
   "metadata": {},
   "source": [
    "For now lets handle the missing age values by replacing the NaN values with the median of the ages and storing the missing age values along with the original Age in a separate column All_Age."
   ]
  },
  {
   "cell_type": "code",
   "execution_count": 5,
   "metadata": {
    "collapsed": true
   },
   "outputs": [],
   "source": [
    "# Replacing the NaN's with the median and storing in a new column\n",
    "df['All_Age'] = df[['Age']].applymap(lambda x: df['Age'].median() if pd.isnull(x) else x)"
   ]
  },
  {
   "cell_type": "code",
   "execution_count": 6,
   "metadata": {},
   "outputs": [
    {
     "data": {
      "text/html": [
       "<div>\n",
       "<style>\n",
       "    .dataframe thead tr:only-child th {\n",
       "        text-align: right;\n",
       "    }\n",
       "\n",
       "    .dataframe thead th {\n",
       "        text-align: left;\n",
       "    }\n",
       "\n",
       "    .dataframe tbody tr th {\n",
       "        vertical-align: top;\n",
       "    }\n",
       "</style>\n",
       "<table border=\"1\" class=\"dataframe\">\n",
       "  <thead>\n",
       "    <tr style=\"text-align: right;\">\n",
       "      <th></th>\n",
       "      <th>PassengerId</th>\n",
       "      <th>Survived</th>\n",
       "      <th>Pclass</th>\n",
       "      <th>Name</th>\n",
       "      <th>Sex</th>\n",
       "      <th>Age</th>\n",
       "      <th>SibSp</th>\n",
       "      <th>Parch</th>\n",
       "      <th>Ticket</th>\n",
       "      <th>Fare</th>\n",
       "      <th>Cabin</th>\n",
       "      <th>Embarked</th>\n",
       "      <th>All_Age</th>\n",
       "    </tr>\n",
       "  </thead>\n",
       "  <tbody>\n",
       "    <tr>\n",
       "      <th>5</th>\n",
       "      <td>6</td>\n",
       "      <td>0</td>\n",
       "      <td>3</td>\n",
       "      <td>Moran, Mr. James</td>\n",
       "      <td>male</td>\n",
       "      <td>NaN</td>\n",
       "      <td>0</td>\n",
       "      <td>0</td>\n",
       "      <td>330877</td>\n",
       "      <td>8.4583</td>\n",
       "      <td>NaN</td>\n",
       "      <td>Q</td>\n",
       "      <td>28.0</td>\n",
       "    </tr>\n",
       "    <tr>\n",
       "      <th>17</th>\n",
       "      <td>18</td>\n",
       "      <td>1</td>\n",
       "      <td>2</td>\n",
       "      <td>Williams, Mr. Charles Eugene</td>\n",
       "      <td>male</td>\n",
       "      <td>NaN</td>\n",
       "      <td>0</td>\n",
       "      <td>0</td>\n",
       "      <td>244373</td>\n",
       "      <td>13.0000</td>\n",
       "      <td>NaN</td>\n",
       "      <td>S</td>\n",
       "      <td>28.0</td>\n",
       "    </tr>\n",
       "    <tr>\n",
       "      <th>19</th>\n",
       "      <td>20</td>\n",
       "      <td>1</td>\n",
       "      <td>3</td>\n",
       "      <td>Masselmani, Mrs. Fatima</td>\n",
       "      <td>female</td>\n",
       "      <td>NaN</td>\n",
       "      <td>0</td>\n",
       "      <td>0</td>\n",
       "      <td>2649</td>\n",
       "      <td>7.2250</td>\n",
       "      <td>NaN</td>\n",
       "      <td>C</td>\n",
       "      <td>28.0</td>\n",
       "    </tr>\n",
       "    <tr>\n",
       "      <th>26</th>\n",
       "      <td>27</td>\n",
       "      <td>0</td>\n",
       "      <td>3</td>\n",
       "      <td>Emir, Mr. Farred Chehab</td>\n",
       "      <td>male</td>\n",
       "      <td>NaN</td>\n",
       "      <td>0</td>\n",
       "      <td>0</td>\n",
       "      <td>2631</td>\n",
       "      <td>7.2250</td>\n",
       "      <td>NaN</td>\n",
       "      <td>C</td>\n",
       "      <td>28.0</td>\n",
       "    </tr>\n",
       "    <tr>\n",
       "      <th>28</th>\n",
       "      <td>29</td>\n",
       "      <td>1</td>\n",
       "      <td>3</td>\n",
       "      <td>O'Dwyer, Miss. Ellen \"Nellie\"</td>\n",
       "      <td>female</td>\n",
       "      <td>NaN</td>\n",
       "      <td>0</td>\n",
       "      <td>0</td>\n",
       "      <td>330959</td>\n",
       "      <td>7.8792</td>\n",
       "      <td>NaN</td>\n",
       "      <td>Q</td>\n",
       "      <td>28.0</td>\n",
       "    </tr>\n",
       "  </tbody>\n",
       "</table>\n",
       "</div>"
      ],
      "text/plain": [
       "    PassengerId  Survived  Pclass                           Name     Sex  Age  \\\n",
       "5             6         0       3               Moran, Mr. James    male  NaN   \n",
       "17           18         1       2   Williams, Mr. Charles Eugene    male  NaN   \n",
       "19           20         1       3        Masselmani, Mrs. Fatima  female  NaN   \n",
       "26           27         0       3        Emir, Mr. Farred Chehab    male  NaN   \n",
       "28           29         1       3  O'Dwyer, Miss. Ellen \"Nellie\"  female  NaN   \n",
       "\n",
       "    SibSp  Parch  Ticket     Fare Cabin Embarked  All_Age  \n",
       "5       0      0  330877   8.4583   NaN        Q     28.0  \n",
       "17      0      0  244373  13.0000   NaN        S     28.0  \n",
       "19      0      0    2649   7.2250   NaN        C     28.0  \n",
       "26      0      0    2631   7.2250   NaN        C     28.0  \n",
       "28      0      0  330959   7.8792   NaN        Q     28.0  "
      ]
     },
     "execution_count": 6,
     "metadata": {},
     "output_type": "execute_result"
    }
   ],
   "source": [
    "# Lets print out some of the missing Age records to see our changes\n",
    "df[missing_age].head()"
   ]
  },
  {
   "cell_type": "code",
   "execution_count": 7,
   "metadata": {},
   "outputs": [
    {
     "data": {
      "text/html": [
       "<div>\n",
       "<style>\n",
       "    .dataframe thead tr:only-child th {\n",
       "        text-align: right;\n",
       "    }\n",
       "\n",
       "    .dataframe thead th {\n",
       "        text-align: left;\n",
       "    }\n",
       "\n",
       "    .dataframe tbody tr th {\n",
       "        vertical-align: top;\n",
       "    }\n",
       "</style>\n",
       "<table border=\"1\" class=\"dataframe\">\n",
       "  <thead>\n",
       "    <tr style=\"text-align: right;\">\n",
       "      <th></th>\n",
       "      <th>Age</th>\n",
       "      <th>All_Age</th>\n",
       "    </tr>\n",
       "  </thead>\n",
       "  <tbody>\n",
       "    <tr>\n",
       "      <th>count</th>\n",
       "      <td>714.000000</td>\n",
       "      <td>891.000000</td>\n",
       "    </tr>\n",
       "    <tr>\n",
       "      <th>mean</th>\n",
       "      <td>29.699118</td>\n",
       "      <td>29.361582</td>\n",
       "    </tr>\n",
       "    <tr>\n",
       "      <th>std</th>\n",
       "      <td>14.526497</td>\n",
       "      <td>13.019697</td>\n",
       "    </tr>\n",
       "    <tr>\n",
       "      <th>min</th>\n",
       "      <td>0.420000</td>\n",
       "      <td>0.420000</td>\n",
       "    </tr>\n",
       "    <tr>\n",
       "      <th>25%</th>\n",
       "      <td>20.125000</td>\n",
       "      <td>22.000000</td>\n",
       "    </tr>\n",
       "    <tr>\n",
       "      <th>50%</th>\n",
       "      <td>28.000000</td>\n",
       "      <td>28.000000</td>\n",
       "    </tr>\n",
       "    <tr>\n",
       "      <th>75%</th>\n",
       "      <td>38.000000</td>\n",
       "      <td>35.000000</td>\n",
       "    </tr>\n",
       "    <tr>\n",
       "      <th>max</th>\n",
       "      <td>80.000000</td>\n",
       "      <td>80.000000</td>\n",
       "    </tr>\n",
       "  </tbody>\n",
       "</table>\n",
       "</div>"
      ],
      "text/plain": [
       "              Age     All_Age\n",
       "count  714.000000  891.000000\n",
       "mean    29.699118   29.361582\n",
       "std     14.526497   13.019697\n",
       "min      0.420000    0.420000\n",
       "25%     20.125000   22.000000\n",
       "50%     28.000000   28.000000\n",
       "75%     38.000000   35.000000\n",
       "max     80.000000   80.000000"
      ]
     },
     "execution_count": 7,
     "metadata": {},
     "output_type": "execute_result"
    }
   ],
   "source": [
    "# Lets have a closer look\n",
    "df[['Age', 'All_Age']].describe()"
   ]
  },
  {
   "cell_type": "markdown",
   "metadata": {},
   "source": [
    "Looks like replacing the NaN values with the median was not a bad idea, it has not affected the overall distribution of the age in the dataset."
   ]
  },
  {
   "cell_type": "markdown",
   "metadata": {},
   "source": [
    "### 2. Cabin"
   ]
  },
  {
   "cell_type": "markdown",
   "metadata": {},
   "source": [
    "As we saw above there is a lot of data missing in the Cabin column. There might be some correlation between the survival of the passenger and a cabin associated to them, it might help us later find correlation between the Survival and if there is a cabin number associated to the person. To make use of this fact, we create a new boolean column Has_Cabin, which will indicate 1 if there is a cabin associated to a passenger, 0 otherwise."
   ]
  },
  {
   "cell_type": "code",
   "execution_count": 8,
   "metadata": {},
   "outputs": [
    {
     "data": {
      "text/html": [
       "<div>\n",
       "<style>\n",
       "    .dataframe thead tr:only-child th {\n",
       "        text-align: right;\n",
       "    }\n",
       "\n",
       "    .dataframe thead th {\n",
       "        text-align: left;\n",
       "    }\n",
       "\n",
       "    .dataframe tbody tr th {\n",
       "        vertical-align: top;\n",
       "    }\n",
       "</style>\n",
       "<table border=\"1\" class=\"dataframe\">\n",
       "  <thead>\n",
       "    <tr style=\"text-align: right;\">\n",
       "      <th></th>\n",
       "      <th>PassengerId</th>\n",
       "      <th>Survived</th>\n",
       "      <th>Pclass</th>\n",
       "      <th>Name</th>\n",
       "      <th>Sex</th>\n",
       "      <th>Age</th>\n",
       "      <th>SibSp</th>\n",
       "      <th>Parch</th>\n",
       "      <th>Ticket</th>\n",
       "      <th>Fare</th>\n",
       "      <th>Cabin</th>\n",
       "      <th>Embarked</th>\n",
       "      <th>All_Age</th>\n",
       "      <th>Has_Cabin</th>\n",
       "    </tr>\n",
       "  </thead>\n",
       "  <tbody>\n",
       "    <tr>\n",
       "      <th>0</th>\n",
       "      <td>1</td>\n",
       "      <td>0</td>\n",
       "      <td>3</td>\n",
       "      <td>Braund, Mr. Owen Harris</td>\n",
       "      <td>male</td>\n",
       "      <td>22.0</td>\n",
       "      <td>1</td>\n",
       "      <td>0</td>\n",
       "      <td>A/5 21171</td>\n",
       "      <td>7.2500</td>\n",
       "      <td>NaN</td>\n",
       "      <td>S</td>\n",
       "      <td>22.0</td>\n",
       "      <td>0</td>\n",
       "    </tr>\n",
       "    <tr>\n",
       "      <th>1</th>\n",
       "      <td>2</td>\n",
       "      <td>1</td>\n",
       "      <td>1</td>\n",
       "      <td>Cumings, Mrs. John Bradley (Florence Briggs Th...</td>\n",
       "      <td>female</td>\n",
       "      <td>38.0</td>\n",
       "      <td>1</td>\n",
       "      <td>0</td>\n",
       "      <td>PC 17599</td>\n",
       "      <td>71.2833</td>\n",
       "      <td>C85</td>\n",
       "      <td>C</td>\n",
       "      <td>38.0</td>\n",
       "      <td>1</td>\n",
       "    </tr>\n",
       "    <tr>\n",
       "      <th>2</th>\n",
       "      <td>3</td>\n",
       "      <td>1</td>\n",
       "      <td>3</td>\n",
       "      <td>Heikkinen, Miss. Laina</td>\n",
       "      <td>female</td>\n",
       "      <td>26.0</td>\n",
       "      <td>0</td>\n",
       "      <td>0</td>\n",
       "      <td>STON/O2. 3101282</td>\n",
       "      <td>7.9250</td>\n",
       "      <td>NaN</td>\n",
       "      <td>S</td>\n",
       "      <td>26.0</td>\n",
       "      <td>0</td>\n",
       "    </tr>\n",
       "    <tr>\n",
       "      <th>3</th>\n",
       "      <td>4</td>\n",
       "      <td>1</td>\n",
       "      <td>1</td>\n",
       "      <td>Futrelle, Mrs. Jacques Heath (Lily May Peel)</td>\n",
       "      <td>female</td>\n",
       "      <td>35.0</td>\n",
       "      <td>1</td>\n",
       "      <td>0</td>\n",
       "      <td>113803</td>\n",
       "      <td>53.1000</td>\n",
       "      <td>C123</td>\n",
       "      <td>S</td>\n",
       "      <td>35.0</td>\n",
       "      <td>1</td>\n",
       "    </tr>\n",
       "    <tr>\n",
       "      <th>4</th>\n",
       "      <td>5</td>\n",
       "      <td>0</td>\n",
       "      <td>3</td>\n",
       "      <td>Allen, Mr. William Henry</td>\n",
       "      <td>male</td>\n",
       "      <td>35.0</td>\n",
       "      <td>0</td>\n",
       "      <td>0</td>\n",
       "      <td>373450</td>\n",
       "      <td>8.0500</td>\n",
       "      <td>NaN</td>\n",
       "      <td>S</td>\n",
       "      <td>35.0</td>\n",
       "      <td>0</td>\n",
       "    </tr>\n",
       "  </tbody>\n",
       "</table>\n",
       "</div>"
      ],
      "text/plain": [
       "   PassengerId  Survived  Pclass  \\\n",
       "0            1         0       3   \n",
       "1            2         1       1   \n",
       "2            3         1       3   \n",
       "3            4         1       1   \n",
       "4            5         0       3   \n",
       "\n",
       "                                                Name     Sex   Age  SibSp  \\\n",
       "0                            Braund, Mr. Owen Harris    male  22.0      1   \n",
       "1  Cumings, Mrs. John Bradley (Florence Briggs Th...  female  38.0      1   \n",
       "2                             Heikkinen, Miss. Laina  female  26.0      0   \n",
       "3       Futrelle, Mrs. Jacques Heath (Lily May Peel)  female  35.0      1   \n",
       "4                           Allen, Mr. William Henry    male  35.0      0   \n",
       "\n",
       "   Parch            Ticket     Fare Cabin Embarked  All_Age  Has_Cabin  \n",
       "0      0         A/5 21171   7.2500   NaN        S     22.0          0  \n",
       "1      0          PC 17599  71.2833   C85        C     38.0          1  \n",
       "2      0  STON/O2. 3101282   7.9250   NaN        S     26.0          0  \n",
       "3      0            113803  53.1000  C123        S     35.0          1  \n",
       "4      0            373450   8.0500   NaN        S     35.0          0  "
      ]
     },
     "execution_count": 8,
     "metadata": {},
     "output_type": "execute_result"
    }
   ],
   "source": [
    "df['Has_Cabin'] = df[['Cabin']].applymap(lambda x: 0 if pd.isnull(x) else 1)\n",
    "df.head()"
   ]
  },
  {
   "cell_type": "markdown",
   "metadata": {},
   "source": [
    "### 3. Embarked"
   ]
  },
  {
   "cell_type": "markdown",
   "metadata": {},
   "source": [
    "As we saw earlier there are literally 2 columns in which the values for the Embarked column is missing. Lets try to figure out what is wrong with the missing values and will it affect out analyses."
   ]
  },
  {
   "cell_type": "code",
   "execution_count": 9,
   "metadata": {
    "collapsed": true
   },
   "outputs": [],
   "source": [
    "# Lets create a boolean list to store the missing values in the Embarked column\n",
    "missing_embarked = pd.isnull(df['Embarked'])"
   ]
  },
  {
   "cell_type": "code",
   "execution_count": 10,
   "metadata": {},
   "outputs": [
    {
     "data": {
      "text/html": [
       "<div>\n",
       "<style>\n",
       "    .dataframe thead tr:only-child th {\n",
       "        text-align: right;\n",
       "    }\n",
       "\n",
       "    .dataframe thead th {\n",
       "        text-align: left;\n",
       "    }\n",
       "\n",
       "    .dataframe tbody tr th {\n",
       "        vertical-align: top;\n",
       "    }\n",
       "</style>\n",
       "<table border=\"1\" class=\"dataframe\">\n",
       "  <thead>\n",
       "    <tr style=\"text-align: right;\">\n",
       "      <th></th>\n",
       "      <th>PassengerId</th>\n",
       "      <th>Survived</th>\n",
       "      <th>Pclass</th>\n",
       "      <th>Name</th>\n",
       "      <th>Sex</th>\n",
       "      <th>Age</th>\n",
       "      <th>SibSp</th>\n",
       "      <th>Parch</th>\n",
       "      <th>Ticket</th>\n",
       "      <th>Fare</th>\n",
       "      <th>Cabin</th>\n",
       "      <th>Embarked</th>\n",
       "      <th>All_Age</th>\n",
       "      <th>Has_Cabin</th>\n",
       "    </tr>\n",
       "  </thead>\n",
       "  <tbody>\n",
       "    <tr>\n",
       "      <th>61</th>\n",
       "      <td>62</td>\n",
       "      <td>1</td>\n",
       "      <td>1</td>\n",
       "      <td>Icard, Miss. Amelie</td>\n",
       "      <td>female</td>\n",
       "      <td>38.0</td>\n",
       "      <td>0</td>\n",
       "      <td>0</td>\n",
       "      <td>113572</td>\n",
       "      <td>80.0</td>\n",
       "      <td>B28</td>\n",
       "      <td>NaN</td>\n",
       "      <td>38.0</td>\n",
       "      <td>1</td>\n",
       "    </tr>\n",
       "    <tr>\n",
       "      <th>829</th>\n",
       "      <td>830</td>\n",
       "      <td>1</td>\n",
       "      <td>1</td>\n",
       "      <td>Stone, Mrs. George Nelson (Martha Evelyn)</td>\n",
       "      <td>female</td>\n",
       "      <td>62.0</td>\n",
       "      <td>0</td>\n",
       "      <td>0</td>\n",
       "      <td>113572</td>\n",
       "      <td>80.0</td>\n",
       "      <td>B28</td>\n",
       "      <td>NaN</td>\n",
       "      <td>62.0</td>\n",
       "      <td>1</td>\n",
       "    </tr>\n",
       "  </tbody>\n",
       "</table>\n",
       "</div>"
      ],
      "text/plain": [
       "     PassengerId  Survived  Pclass                                       Name  \\\n",
       "61            62         1       1                        Icard, Miss. Amelie   \n",
       "829          830         1       1  Stone, Mrs. George Nelson (Martha Evelyn)   \n",
       "\n",
       "        Sex   Age  SibSp  Parch  Ticket  Fare Cabin Embarked  All_Age  \\\n",
       "61   female  38.0      0      0  113572  80.0   B28      NaN     38.0   \n",
       "829  female  62.0      0      0  113572  80.0   B28      NaN     62.0   \n",
       "\n",
       "     Has_Cabin  \n",
       "61           1  \n",
       "829          1  "
      ]
     },
     "execution_count": 10,
     "metadata": {},
     "output_type": "execute_result"
    }
   ],
   "source": [
    "# Let us have a closer look to the records with the missing Embarked values\n",
    "df[missing_embarked]"
   ]
  },
  {
   "cell_type": "markdown",
   "metadata": {},
   "source": [
    "Having a closer look to the data it looks like, both the passengers were travelling together; as the Ticket number, fare and the Cabin(B28) was the same."
   ]
  },
  {
   "cell_type": "markdown",
   "metadata": {},
   "source": [
    "*In order to fill the above two missing values, lets put some thought :*\n",
    "* In our dataset there are 3 ports for Embarkation, which means that the passengers boarded from 3 different ports.\n",
    "* From all these different ports the Fare for each class should be different.\n",
    "* Both the passengers from the missing fields are from first clas.\n",
    "* The mean/medain fair paid by the first class passengers Embarking from a certain port should have closer values to the fair paid by the Passengers 62 and 830.\n",
    "\n",
    "Let's try get the statistics of the Fair paid by the first class passengers embarking from all the three ports."
   ]
  },
  {
   "cell_type": "code",
   "execution_count": 11,
   "metadata": {},
   "outputs": [
    {
     "data": {
      "text/html": [
       "<div>\n",
       "<style>\n",
       "    .dataframe thead tr:only-child th {\n",
       "        text-align: right;\n",
       "    }\n",
       "\n",
       "    .dataframe thead th {\n",
       "        text-align: left;\n",
       "    }\n",
       "\n",
       "    .dataframe tbody tr th {\n",
       "        vertical-align: top;\n",
       "    }\n",
       "</style>\n",
       "<table border=\"1\" class=\"dataframe\">\n",
       "  <thead>\n",
       "    <tr>\n",
       "      <th></th>\n",
       "      <th>mean</th>\n",
       "      <th>median</th>\n",
       "      <th>std</th>\n",
       "      <th>size</th>\n",
       "      <th>amax</th>\n",
       "      <th>amin</th>\n",
       "    </tr>\n",
       "    <tr>\n",
       "      <th></th>\n",
       "      <th>Fare</th>\n",
       "      <th>Fare</th>\n",
       "      <th>Fare</th>\n",
       "      <th>Fare</th>\n",
       "      <th>Fare</th>\n",
       "      <th>Fare</th>\n",
       "    </tr>\n",
       "    <tr>\n",
       "      <th>Embarked</th>\n",
       "      <th></th>\n",
       "      <th></th>\n",
       "      <th></th>\n",
       "      <th></th>\n",
       "      <th></th>\n",
       "      <th></th>\n",
       "    </tr>\n",
       "  </thead>\n",
       "  <tbody>\n",
       "    <tr>\n",
       "      <th>C</th>\n",
       "      <td>104.718529</td>\n",
       "      <td>78.2667</td>\n",
       "      <td>99.093935</td>\n",
       "      <td>85.0</td>\n",
       "      <td>512.3292</td>\n",
       "      <td>26.55</td>\n",
       "    </tr>\n",
       "    <tr>\n",
       "      <th>Q</th>\n",
       "      <td>90.000000</td>\n",
       "      <td>90.0000</td>\n",
       "      <td>0.000000</td>\n",
       "      <td>2.0</td>\n",
       "      <td>90.0000</td>\n",
       "      <td>90.00</td>\n",
       "    </tr>\n",
       "    <tr>\n",
       "      <th>S</th>\n",
       "      <td>70.364862</td>\n",
       "      <td>52.0000</td>\n",
       "      <td>58.811278</td>\n",
       "      <td>127.0</td>\n",
       "      <td>263.0000</td>\n",
       "      <td>0.00</td>\n",
       "    </tr>\n",
       "  </tbody>\n",
       "</table>\n",
       "</div>"
      ],
      "text/plain": [
       "                mean   median        std   size      amax   amin\n",
       "                Fare     Fare       Fare   Fare      Fare   Fare\n",
       "Embarked                                                        \n",
       "C         104.718529  78.2667  99.093935   85.0  512.3292  26.55\n",
       "Q          90.000000  90.0000   0.000000    2.0   90.0000  90.00\n",
       "S          70.364862  52.0000  58.811278  127.0  263.0000   0.00"
      ]
     },
     "execution_count": 11,
     "metadata": {},
     "output_type": "execute_result"
    }
   ],
   "source": [
    "# Creating a boolean list of first class passengers\n",
    "first_class = df[\"Pclass\"] == 1\n",
    "\n",
    "# Parameters for our pandas.pivot_table aggfunc\n",
    "func_param = [np.mean, np.median ,np.std, np.size, np.max, np.min]\n",
    "\n",
    "# Creating a pivot table with the statistics of all three ports of Embarkation\n",
    "df[first_class].pivot_table(values='Fare', index='Embarked',aggfunc=func_param)"
   ]
  },
  {
   "cell_type": "markdown",
   "metadata": {},
   "source": [
    "By seeing the variance in the data and the mean and median values, looks like the passengers 62 and 830 embarked from Cherbourg port. Lets fill in the missing values."
   ]
  },
  {
   "cell_type": "code",
   "execution_count": 12,
   "metadata": {
    "collapsed": true
   },
   "outputs": [],
   "source": [
    "df.loc[61, 'Embarked'] = 'C'\n",
    "df.loc[829, 'Embarked'] = 'C'"
   ]
  },
  {
   "cell_type": "code",
   "execution_count": 13,
   "metadata": {},
   "outputs": [
    {
     "data": {
      "text/html": [
       "<div>\n",
       "<style>\n",
       "    .dataframe thead tr:only-child th {\n",
       "        text-align: right;\n",
       "    }\n",
       "\n",
       "    .dataframe thead th {\n",
       "        text-align: left;\n",
       "    }\n",
       "\n",
       "    .dataframe tbody tr th {\n",
       "        vertical-align: top;\n",
       "    }\n",
       "</style>\n",
       "<table border=\"1\" class=\"dataframe\">\n",
       "  <thead>\n",
       "    <tr style=\"text-align: right;\">\n",
       "      <th></th>\n",
       "      <th>PassengerId</th>\n",
       "      <th>Survived</th>\n",
       "      <th>Pclass</th>\n",
       "      <th>Name</th>\n",
       "      <th>Sex</th>\n",
       "      <th>Age</th>\n",
       "      <th>SibSp</th>\n",
       "      <th>Parch</th>\n",
       "      <th>Ticket</th>\n",
       "      <th>Fare</th>\n",
       "      <th>Cabin</th>\n",
       "      <th>Embarked</th>\n",
       "      <th>All_Age</th>\n",
       "      <th>Has_Cabin</th>\n",
       "    </tr>\n",
       "  </thead>\n",
       "  <tbody>\n",
       "  </tbody>\n",
       "</table>\n",
       "</div>"
      ],
      "text/plain": [
       "Empty DataFrame\n",
       "Columns: [PassengerId, Survived, Pclass, Name, Sex, Age, SibSp, Parch, Ticket, Fare, Cabin, Embarked, All_Age, Has_Cabin]\n",
       "Index: []"
      ]
     },
     "execution_count": 13,
     "metadata": {},
     "output_type": "execute_result"
    }
   ],
   "source": [
    "# Lets Cross check our replacement of missing values\n",
    "missing_embarked = pd.isnull(df['Embarked'])\n",
    "df[missing_embarked].head()"
   ]
  },
  {
   "cell_type": "markdown",
   "metadata": {},
   "source": [
    "*Now there is no missing data in the Embarked column.*"
   ]
  },
  {
   "cell_type": "markdown",
   "metadata": {},
   "source": [
    "### Adding Few more features"
   ]
  },
  {
   "cell_type": "markdown",
   "metadata": {},
   "source": [
    "Upon reading the several threads at forums of Udacity and Kaggle, I found that some people have considered the size of the passenger's family as the sum of their ‘SibSp’ and ‘Parch’ attributes. This could help us finding the correlation between the survival of the passenger and their family size."
   ]
  },
  {
   "cell_type": "code",
   "execution_count": 14,
   "metadata": {
    "collapsed": true
   },
   "outputs": [],
   "source": [
    "# Creating new column Family_Size\n",
    "df['Family_Size']=df['SibSp']+df['Parch']"
   ]
  },
  {
   "cell_type": "markdown",
   "metadata": {},
   "source": [
    "Lets divide the family size into three categories, if the family size is 0, then the person must be single if the family size is 1 to 4 it is a small family and if the family size is 5 to 10 then it is big family."
   ]
  },
  {
   "cell_type": "code",
   "execution_count": 15,
   "metadata": {
    "collapsed": true
   },
   "outputs": [],
   "source": [
    "# Creating Family Category\n",
    "df['Family_Categoty'] = df['Family_Size'].map({0:'Single',1:'Small_Family', 2:'Small_Family',\n",
    "                                              3:'Small_Family',4:'Small_Family', 5:'Big_Family', \n",
    "                                               6:'Big_Family', 7:'Big_Family', 8:'Big_Family',\n",
    "                                               9:'Big_Family', 10:'Big_Family',})"
   ]
  },
  {
   "cell_type": "markdown",
   "metadata": {
    "collapsed": true
   },
   "source": [
    "Lets create a boolean field for Sex column, incase if we need in futute."
   ]
  },
  {
   "cell_type": "code",
   "execution_count": 16,
   "metadata": {
    "collapsed": true
   },
   "outputs": [],
   "source": [
    "# Assigning the values as 0,1\n",
    "df['Gender'] = df['Sex'].map({'female':0,'male':1})"
   ]
  },
  {
   "cell_type": "markdown",
   "metadata": {},
   "source": [
    "Lets create one more column, **Embarked_Port** mapping the values for port of Embarkation for ease of analyses in future."
   ]
  },
  {
   "cell_type": "code",
   "execution_count": 17,
   "metadata": {
    "collapsed": true
   },
   "outputs": [],
   "source": [
    "# Assigning the values as 1 = C = Cherbourg, 2 = Q = Queenstown, 3 = S = Southampton\n",
    "df['Embarked_Port'] = df['Embarked'].map({'C':'Cherbourg','Q':'Queenstown', 'S':'Southampton'})"
   ]
  },
  {
   "cell_type": "markdown",
   "metadata": {},
   "source": [
    "Let us drop the columns from the data set which we would not be using in our analyses."
   ]
  },
  {
   "cell_type": "code",
   "execution_count": 18,
   "metadata": {
    "collapsed": true
   },
   "outputs": [],
   "source": [
    "df.drop(['PassengerId', 'Name', 'SibSp', 'Parch', 'Ticket'],inplace=True,axis=1)"
   ]
  },
  {
   "cell_type": "code",
   "execution_count": 19,
   "metadata": {},
   "outputs": [
    {
     "data": {
      "text/html": [
       "<div>\n",
       "<style>\n",
       "    .dataframe thead tr:only-child th {\n",
       "        text-align: right;\n",
       "    }\n",
       "\n",
       "    .dataframe thead th {\n",
       "        text-align: left;\n",
       "    }\n",
       "\n",
       "    .dataframe tbody tr th {\n",
       "        vertical-align: top;\n",
       "    }\n",
       "</style>\n",
       "<table border=\"1\" class=\"dataframe\">\n",
       "  <thead>\n",
       "    <tr style=\"text-align: right;\">\n",
       "      <th></th>\n",
       "      <th>Survived</th>\n",
       "      <th>Pclass</th>\n",
       "      <th>Sex</th>\n",
       "      <th>Age</th>\n",
       "      <th>Fare</th>\n",
       "      <th>Cabin</th>\n",
       "      <th>Embarked</th>\n",
       "      <th>All_Age</th>\n",
       "      <th>Has_Cabin</th>\n",
       "      <th>Family_Size</th>\n",
       "      <th>Family_Categoty</th>\n",
       "      <th>Gender</th>\n",
       "      <th>Embarked_Port</th>\n",
       "    </tr>\n",
       "  </thead>\n",
       "  <tbody>\n",
       "    <tr>\n",
       "      <th>0</th>\n",
       "      <td>0</td>\n",
       "      <td>3</td>\n",
       "      <td>male</td>\n",
       "      <td>22.0</td>\n",
       "      <td>7.2500</td>\n",
       "      <td>NaN</td>\n",
       "      <td>S</td>\n",
       "      <td>22.0</td>\n",
       "      <td>0</td>\n",
       "      <td>1</td>\n",
       "      <td>Small_Family</td>\n",
       "      <td>1</td>\n",
       "      <td>Southampton</td>\n",
       "    </tr>\n",
       "    <tr>\n",
       "      <th>1</th>\n",
       "      <td>1</td>\n",
       "      <td>1</td>\n",
       "      <td>female</td>\n",
       "      <td>38.0</td>\n",
       "      <td>71.2833</td>\n",
       "      <td>C85</td>\n",
       "      <td>C</td>\n",
       "      <td>38.0</td>\n",
       "      <td>1</td>\n",
       "      <td>1</td>\n",
       "      <td>Small_Family</td>\n",
       "      <td>0</td>\n",
       "      <td>Cherbourg</td>\n",
       "    </tr>\n",
       "    <tr>\n",
       "      <th>2</th>\n",
       "      <td>1</td>\n",
       "      <td>3</td>\n",
       "      <td>female</td>\n",
       "      <td>26.0</td>\n",
       "      <td>7.9250</td>\n",
       "      <td>NaN</td>\n",
       "      <td>S</td>\n",
       "      <td>26.0</td>\n",
       "      <td>0</td>\n",
       "      <td>0</td>\n",
       "      <td>Single</td>\n",
       "      <td>0</td>\n",
       "      <td>Southampton</td>\n",
       "    </tr>\n",
       "    <tr>\n",
       "      <th>3</th>\n",
       "      <td>1</td>\n",
       "      <td>1</td>\n",
       "      <td>female</td>\n",
       "      <td>35.0</td>\n",
       "      <td>53.1000</td>\n",
       "      <td>C123</td>\n",
       "      <td>S</td>\n",
       "      <td>35.0</td>\n",
       "      <td>1</td>\n",
       "      <td>1</td>\n",
       "      <td>Small_Family</td>\n",
       "      <td>0</td>\n",
       "      <td>Southampton</td>\n",
       "    </tr>\n",
       "    <tr>\n",
       "      <th>4</th>\n",
       "      <td>0</td>\n",
       "      <td>3</td>\n",
       "      <td>male</td>\n",
       "      <td>35.0</td>\n",
       "      <td>8.0500</td>\n",
       "      <td>NaN</td>\n",
       "      <td>S</td>\n",
       "      <td>35.0</td>\n",
       "      <td>0</td>\n",
       "      <td>0</td>\n",
       "      <td>Single</td>\n",
       "      <td>1</td>\n",
       "      <td>Southampton</td>\n",
       "    </tr>\n",
       "  </tbody>\n",
       "</table>\n",
       "</div>"
      ],
      "text/plain": [
       "   Survived  Pclass     Sex   Age     Fare Cabin Embarked  All_Age  Has_Cabin  \\\n",
       "0         0       3    male  22.0   7.2500   NaN        S     22.0          0   \n",
       "1         1       1  female  38.0  71.2833   C85        C     38.0          1   \n",
       "2         1       3  female  26.0   7.9250   NaN        S     26.0          0   \n",
       "3         1       1  female  35.0  53.1000  C123        S     35.0          1   \n",
       "4         0       3    male  35.0   8.0500   NaN        S     35.0          0   \n",
       "\n",
       "   Family_Size Family_Categoty  Gender Embarked_Port  \n",
       "0            1    Small_Family       1   Southampton  \n",
       "1            1    Small_Family       0     Cherbourg  \n",
       "2            0          Single       0   Southampton  \n",
       "3            1    Small_Family       0   Southampton  \n",
       "4            0          Single       1   Southampton  "
      ]
     },
     "execution_count": 19,
     "metadata": {},
     "output_type": "execute_result"
    }
   ],
   "source": [
    "# lets display first few records\n",
    "df.head()"
   ]
  },
  {
   "cell_type": "markdown",
   "metadata": {},
   "source": [
    "---"
   ]
  },
  {
   "cell_type": "markdown",
   "metadata": {},
   "source": [
    "## Exploratory Data Analysis"
   ]
  },
  {
   "cell_type": "markdown",
   "metadata": {
    "collapsed": true
   },
   "source": [
    "### Age"
   ]
  },
  {
   "cell_type": "markdown",
   "metadata": {
    "collapsed": true
   },
   "source": [
    "Let's see how the age is distributed among the onboarding passengers."
   ]
  },
  {
   "cell_type": "code",
   "execution_count": 20,
   "metadata": {},
   "outputs": [
    {
     "data": {
      "text/plain": [
       "<matplotlib.text.Text at 0x10bc23bd0>"
      ]
     },
     "execution_count": 20,
     "metadata": {},
     "output_type": "execute_result"
    },
    {
     "data": {
      "image/png": "[encoded data removed]",
      "text/plain": [
       "<matplotlib.figure.Figure at 0x10bb1ce50>"
      ]
     },
     "metadata": {},
     "output_type": "display_data"
    }
   ],
   "source": [
    "# Plotting the distribution of age\n",
    "sns.boxplot(df.All_Age)\n",
    "plt.xlabel('Age in Years', fontsize=14)\n",
    "plt.title('Box Plot Showing the Distribution of Age', fontsize=16)"
   ]
  },
  {
   "cell_type": "markdown",
   "metadata": {},
   "source": [
    "The above boxplot figure shows how the age is spread out amongst all the 891 passengers. We can see that most of the passgenger's age is ranging from 20 to 40 years old. Let us have a closer look into the number so that we can find more about the ages."
   ]
  },
  {
   "cell_type": "code",
   "execution_count": 21,
   "metadata": {},
   "outputs": [
    {
     "data": {
      "text/html": [
       "<div>\n",
       "<style>\n",
       "    .dataframe thead tr:only-child th {\n",
       "        text-align: right;\n",
       "    }\n",
       "\n",
       "    .dataframe thead th {\n",
       "        text-align: left;\n",
       "    }\n",
       "\n",
       "    .dataframe tbody tr th {\n",
       "        vertical-align: top;\n",
       "    }\n",
       "</style>\n",
       "<table border=\"1\" class=\"dataframe\">\n",
       "  <thead>\n",
       "    <tr style=\"text-align: right;\">\n",
       "      <th></th>\n",
       "      <th>Age</th>\n",
       "      <th>All_Age</th>\n",
       "    </tr>\n",
       "  </thead>\n",
       "  <tbody>\n",
       "    <tr>\n",
       "      <th>count</th>\n",
       "      <td>714.000000</td>\n",
       "      <td>891.000000</td>\n",
       "    </tr>\n",
       "    <tr>\n",
       "      <th>mean</th>\n",
       "      <td>29.699118</td>\n",
       "      <td>29.361582</td>\n",
       "    </tr>\n",
       "    <tr>\n",
       "      <th>std</th>\n",
       "      <td>14.526497</td>\n",
       "      <td>13.019697</td>\n",
       "    </tr>\n",
       "    <tr>\n",
       "      <th>min</th>\n",
       "      <td>0.420000</td>\n",
       "      <td>0.420000</td>\n",
       "    </tr>\n",
       "    <tr>\n",
       "      <th>25%</th>\n",
       "      <td>20.125000</td>\n",
       "      <td>22.000000</td>\n",
       "    </tr>\n",
       "    <tr>\n",
       "      <th>50%</th>\n",
       "      <td>28.000000</td>\n",
       "      <td>28.000000</td>\n",
       "    </tr>\n",
       "    <tr>\n",
       "      <th>75%</th>\n",
       "      <td>38.000000</td>\n",
       "      <td>35.000000</td>\n",
       "    </tr>\n",
       "    <tr>\n",
       "      <th>max</th>\n",
       "      <td>80.000000</td>\n",
       "      <td>80.000000</td>\n",
       "    </tr>\n",
       "  </tbody>\n",
       "</table>\n",
       "</div>"
      ],
      "text/plain": [
       "              Age     All_Age\n",
       "count  714.000000  891.000000\n",
       "mean    29.699118   29.361582\n",
       "std     14.526497   13.019697\n",
       "min      0.420000    0.420000\n",
       "25%     20.125000   22.000000\n",
       "50%     28.000000   28.000000\n",
       "75%     38.000000   35.000000\n",
       "max     80.000000   80.000000"
      ]
     },
     "execution_count": 21,
     "metadata": {},
     "output_type": "execute_result"
    }
   ],
   "source": [
    "# Lets have a closer look to see how the age value is distributed among the passengers\n",
    "# All_Age is the column, where I have replaced the missing values with the median Ages from Age column.\n",
    "df[['Age', 'All_Age']].describe()"
   ]
  },
  {
   "cell_type": "markdown",
   "metadata": {},
   "source": [
    "The age of the passengers are ranging from 0.42 to 80 years, with a mean of 29.5, median of 28 and a standard deviation close to 14%.\n",
    "* The Youngest passenger's age is **0.42** years.\n",
    "* The oldest passenger on the boat is **80** years old.\n",
    "* 50% of the passengers are **older than 28 years** and 50% of the passengers are younger than 28 years.\n",
    "* Out of 891 passengers, almost 75% of the passengers are 35 years or younger.\n",
    "* We can see from the box plot above that most of the passenger's age is ranging between 20 to 40 years approx."
   ]
  },
  {
   "cell_type": "code",
   "execution_count": 22,
   "metadata": {},
   "outputs": [
    {
     "data": {
      "text/plain": [
       "<matplotlib.text.Text at 0x10bf8f450>"
      ]
     },
     "execution_count": 22,
     "metadata": {},
     "output_type": "execute_result"
    },
    {
     "data": {
      "image/png": "[encoded data removed]",
      "text/plain": [
       "<matplotlib.figure.Figure at 0x10bff21d0>"
      ]
     },
     "metadata": {},
     "output_type": "display_data"
    }
   ],
   "source": [
    "# A closer look into the distribution of the ages of the passengers on board\n",
    "sns.FacetGrid(df, size=5, aspect=2)\n",
    "sns.distplot(df.All_Age, bins=20, rug=True);\n",
    "plt.xlabel('Age in Years', fontsize=12)\n",
    "plt.ylabel('Proportion of the Passengers', fontsize=12)\n",
    "plt.title('Proportion of Passengers corresponding to Age groups', fontsize=16)"
   ]
  },
  {
   "cell_type": "markdown",
   "metadata": {
    "collapsed": true
   },
   "source": [
    "The above distribution shows how the age is being spread amongst the passengers, we can see the proportion of the passengers correstponding to the age group in the y axis.\n",
    "\n",
    "Let us examine of age was the factor for the survival for the passenger lives. We will group the age in to the brackets of 20 years and will try to figure out if age is correlated to the survival of the passengers. The maximum age is 80 so we will create four different groups."
   ]
  },
  {
   "cell_type": "code",
   "execution_count": 23,
   "metadata": {},
   "outputs": [
    {
     "name": "stdout",
     "output_type": "stream",
     "text": [
      "Passengers having age less than 20 =  179 , Survived =  82\n",
      "Passengers having ages between 20 and 40 =  562 , Survived =  205\n",
      "Passengers having ages between 40 and 60 = 128 , Survived =  50\n",
      "Passengers having ages between 60 and 80 =  22 , Survived =  5\n"
     ]
    }
   ],
   "source": [
    "# Breating a boolean list by dividing the age in four different groups\n",
    "age_till_20 = (df.All_Age<=20)\n",
    "age_20_40 = (df.All_Age>20) & (df.All_Age<=40)\n",
    "age_40_60 = (df.All_Age>40) & (df.All_Age<=60)\n",
    "age_60_80 = (df.All_Age>60) & (df.All_Age<=80)\n",
    "\n",
    "# Boolean list of survived passengers\n",
    "survived = (df.Survived == 1)\n",
    "\n",
    "print 'Passengers having age less than 20 = ', df[age_till_20].All_Age.count(), \\\n",
    "', Survived = ', df[age_till_20 & survived].All_Age.count()\n",
    "print 'Passengers having ages between 20 and 40 = ', df[age_20_40].All_Age.count(), \\\n",
    "', Survived = ', df[age_20_40 & survived].All_Age.count()\n",
    "print 'Passengers having ages between 40 and 60 =', df[age_40_60].All_Age.count(), \\\n",
    "', Survived = ', df[age_40_60 & survived].All_Age.count()\n",
    "print 'Passengers having ages between 60 and 80 = ', df[age_60_80].All_Age.count(),  \\\n",
    "', Survived = ', df[age_60_80 & survived].All_Age.count()"
   ]
  },
  {
   "cell_type": "markdown",
   "metadata": {
    "collapsed": true
   },
   "source": [
    "Lets convert the numbers to percentage for better presentation:\n",
    "* Suvived % of age less than 20 =  **45.810056 %**\n",
    "* Suvived % of ages between 20 and 40 = **36.476868 %**\n",
    "* Suvived % of ages between 40 and 60 = **39.0625 %**\n",
    "* Suvived % of ages between 60 and 80 = **22.727273%**\n"
   ]
  },
  {
   "cell_type": "markdown",
   "metadata": {
    "collapsed": true
   },
   "source": [
    ">The findings from the age group of the passengers seems tentative. Looks like the passengers having ages less than or euqal to 20 years had the best chance of survival, followed by the passengers of age between 20 to 60 having survival rate close to 37%. People having ages between 60 and 80 years had the least survival rate.\n",
    "\n",
    ">Most number (more than 50%) of passengers were having ages between 20 to 40 and thus the most number of survivals are in this age group."
   ]
  },
  {
   "cell_type": "markdown",
   "metadata": {},
   "source": [
    "### Sex"
   ]
  },
  {
   "cell_type": "markdown",
   "metadata": {},
   "source": [
    "Lets see what is the distribution of the passengers with respect to gender."
   ]
  },
  {
   "cell_type": "code",
   "execution_count": 24,
   "metadata": {},
   "outputs": [
    {
     "data": {
      "text/plain": [
       "<matplotlib.text.Text at 0x110648a10>"
      ]
     },
     "execution_count": 24,
     "metadata": {},
     "output_type": "execute_result"
    },
    {
     "data": {
      "image/png": "[encoded data removed]",
      "text/plain": [
       "<matplotlib.figure.Figure at 0x1105a4e50>"
      ]
     },
     "metadata": {},
     "output_type": "display_data"
    }
   ],
   "source": [
    "# Lets plot a barplot to see the distribution of males and females on board\n",
    "sns.countplot(x='Sex', data=df)\n",
    "sns.barplot(x=df.Sex.value_counts().index,y=df.Sex.value_counts(), data=df);\n",
    "plt.xlabel('Sex', fontsize=12)\n",
    "plt.ylabel('Count of the Passengers', fontsize=14)\n",
    "plt.title('Number of passengers corresponding to Gender', fontsize=12)"
   ]
  },
  {
   "cell_type": "markdown",
   "metadata": {},
   "source": [
    "The above visualization shows how many males and females were there in the boat out of the 891 passengers, y axis in the graph shows the number of the passenger belonging to male or female. It is very clear from the visualization that most of the passengers were males, let us try to find out more from this data."
   ]
  },
  {
   "cell_type": "code",
   "execution_count": 25,
   "metadata": {},
   "outputs": [
    {
     "name": "stdout",
     "output_type": "stream",
     "text": [
      "There are total 577 males and 314 females.\n"
     ]
    }
   ],
   "source": [
    "# Creating boolean list of males and females\n",
    "females = (df.Sex == 'female')\n",
    "males = (df.Sex == 'male')\n",
    "\n",
    "print 'There are total',df[males == True].Sex.count(),'males and',df[females == True].Sex.count(),'females.'"
   ]
  },
  {
   "cell_type": "markdown",
   "metadata": {},
   "source": [
    "Let us find if there is any correlation between sex and survival of the passengers on board."
   ]
  },
  {
   "cell_type": "code",
   "execution_count": 26,
   "metadata": {},
   "outputs": [
    {
     "data": {
      "text/plain": [
       "<matplotlib.text.Text at 0x110751710>"
      ]
     },
     "execution_count": 26,
     "metadata": {},
     "output_type": "execute_result"
    },
    {
     "data": {
      "image/png": "[encoded data removed]",
      "text/plain": [
       "<matplotlib.figure.Figure at 0x10bc6bd50>"
      ]
     },
     "metadata": {},
     "output_type": "display_data"
    }
   ],
   "source": [
    "# Let us plot a visualization to see the survival Proportion of males and females\n",
    "sns.barplot(x='Sex', y='Survived',data=df)\n",
    "plt.xlabel('Sex', fontsize=10)\n",
    "plt.ylabel('Proportion of the Passengers Survived', fontsize=12)\n",
    "plt.title('Proportion of Survived passengers as per Gender ', fontsize=14)"
   ]
  },
  {
   "cell_type": "markdown",
   "metadata": {},
   "source": [
    "Loos like there is a better chance of survival for females than males, lets try to find out more about the survival of male and female passengers. "
   ]
  },
  {
   "cell_type": "code",
   "execution_count": 27,
   "metadata": {},
   "outputs": [
    {
     "name": "stdout",
     "output_type": "stream",
     "text": [
      "109 males survived out of 577, and 233 females survived out of 314.\n"
     ]
    }
   ],
   "source": [
    "# Lets print out the numbers of survived males and females\n",
    "\n",
    "print df[males & survived].Survived.count(),'males survived out of 577, and',\\\n",
    "df[females & survived].Survived.count(),'females survived out of 314.'"
   ]
  },
  {
   "cell_type": "markdown",
   "metadata": {},
   "source": [
    ">As we saw from the above analysis there was a better chance of survival if the passenger was female.\n",
    "* **74.20%** of females survived, where as only\n",
    "* **18.89%** of males survived.\n",
    "\n",
    ">Still we need to look into other features as well before we say something about the correation of survival and gender."
   ]
  },
  {
   "cell_type": "markdown",
   "metadata": {},
   "source": [
    "### Pclass (Ticket class) and Fare"
   ]
  },
  {
   "cell_type": "markdown",
   "metadata": {},
   "source": [
    "As I described briefly in the dataframe Pclass is the proxy for Socio Economic status. 1 = 1st; 2 = 2nd; 3 = 3rd class respectively. Lets see what is the distribution of Pclass amon the passengers."
   ]
  },
  {
   "cell_type": "code",
   "execution_count": 28,
   "metadata": {},
   "outputs": [
    {
     "data": {
      "text/plain": [
       "<matplotlib.text.Text at 0x1106e9bd0>"
      ]
     },
     "execution_count": 28,
     "metadata": {},
     "output_type": "execute_result"
    },
    {
     "data": {
      "image/png": "[encoded data removed]",
      "text/plain": [
       "<matplotlib.figure.Figure at 0x110718150>"
      ]
     },
     "metadata": {},
     "output_type": "display_data"
    }
   ],
   "source": [
    "# Lets plot a barplot to see the distribution of Ticket class for passengers on board\n",
    "sns.countplot(x='Pclass', data=df)\n",
    "sns.barplot(x=df.Pclass.value_counts().index,y=df.Pclass.value_counts(), data=df);\n",
    "plt.xlabel('Ticket Class', fontsize=14)\n",
    "plt.ylabel('Count of the Passengers', fontsize=12)\n",
    "plt.title('Count of passengers with different ticket class', fontsize=14)"
   ]
  },
  {
   "cell_type": "markdown",
   "metadata": {},
   "source": [
    "The above barplot shows how many passengers were travelling in each ticket class. There were less number of passengers  from first and second class compared to the third class, lets find out more about this."
   ]
  },
  {
   "cell_type": "code",
   "execution_count": 29,
   "metadata": {},
   "outputs": [
    {
     "name": "stdout",
     "output_type": "stream",
     "text": [
      "There are total 216 first class, 184 second class, and 491 third class passengers.\n"
     ]
    }
   ],
   "source": [
    "# Creating boolean list Pclass\n",
    "first_class = (df.Pclass == 1)\n",
    "second_class = (df.Pclass == 2)\n",
    "third_class = (df.Pclass == 3)\n",
    "\n",
    "print 'There are total',df[first_class == True].Pclass.count(),'first class,', \\\n",
    "df[second_class == True].Pclass.count(),'second class, and',df[third_class == True].Sex.count(),\\\n",
    "'third class passengers.'"
   ]
  },
  {
   "cell_type": "markdown",
   "metadata": {},
   "source": [
    "**Lets figure out how Pclass and Fare is correlated and whether indeed it is a proxy for socio economic status.**"
   ]
  },
  {
   "cell_type": "code",
   "execution_count": 30,
   "metadata": {},
   "outputs": [
    {
     "data": {
      "text/plain": [
       "<matplotlib.text.Text at 0x110a20850>"
      ]
     },
     "execution_count": 30,
     "metadata": {},
     "output_type": "execute_result"
    },
    {
     "data": {
      "image/png": "[encoded data removed]",
      "text/plain": [
       "<matplotlib.figure.Figure at 0x1106d86d0>"
      ]
     },
     "metadata": {},
     "output_type": "display_data"
    }
   ],
   "source": [
    "# Lets plot some visualizations to figure out if there is any correation between Fare and Pclass\n",
    "sns.stripplot(x=\"Pclass\", y=\"Fare\", data=df);\n",
    "plt.xlabel('Ticket Class', fontsize=14)\n",
    "plt.ylabel('Fare Paid by the passengers', fontsize=12)\n",
    "plt.title('Strip-plot showing amount paid by different passenger class', fontsize=14)"
   ]
  },
  {
   "cell_type": "markdown",
   "metadata": {},
   "source": [
    "The above visualization shows how the fare paid is related to the ticket class of the passengers, passengers belonging to the first class seems to have paid more fare than the second and third class passengers. Lets see the numbers and the correation among these two features."
   ]
  },
  {
   "cell_type": "code",
   "execution_count": 31,
   "metadata": {},
   "outputs": [
    {
     "data": {
      "text/plain": [
       "count    891.000000\n",
       "mean      32.204208\n",
       "std       49.693429\n",
       "min        0.000000\n",
       "25%        7.910400\n",
       "50%       14.454200\n",
       "75%       31.000000\n",
       "max      512.329200\n",
       "Name: Fare, dtype: float64"
      ]
     },
     "execution_count": 31,
     "metadata": {},
     "output_type": "execute_result"
    }
   ],
   "source": [
    "df['Fare'].describe()"
   ]
  },
  {
   "cell_type": "code",
   "execution_count": 32,
   "metadata": {},
   "outputs": [
    {
     "data": {
      "text/plain": [
       "-0.54949961994390784"
      ]
     },
     "execution_count": 32,
     "metadata": {},
     "output_type": "execute_result"
    }
   ],
   "source": [
    "# Lets find out the pearson's correlation between Pclass and Has_Cabin columns\n",
    "df['Pclass'].corr(df['Fare'], method='pearson')"
   ]
  },
  {
   "cell_type": "markdown",
   "metadata": {},
   "source": [
    "Looks like there is a correlation between Pclass and Fare of the passengers, Passengers in first class have high values in Fare column, and passengers of third class have paid least Fare. Upon plotting a joint plot we can also see the high negative correlation value of **-0.55**.\n",
    "\n",
    "It is Indeed a proxy for Socio economic status. Since the data is correlated together we cannot strongly say this, but with our findings the statement is true to some extent, there might be some other factors too driving this feature."
   ]
  },
  {
   "cell_type": "markdown",
   "metadata": {},
   "source": [
    "#### Let us look at the Cabin column"
   ]
  },
  {
   "cell_type": "markdown",
   "metadata": {},
   "source": [
    "As we saw earlier there is a lot of data missing in the Cabin column, it would be very difficult to say anything about this column. Let us try to understand why there are so many missing values in the cabin column. Since cabin can be related as seats numbers, we can try to find the relation between Pclass and Cabin."
   ]
  },
  {
   "cell_type": "code",
   "execution_count": 33,
   "metadata": {},
   "outputs": [
    {
     "data": {
      "text/plain": [
       "-0.72554124182895441"
      ]
     },
     "execution_count": 33,
     "metadata": {},
     "output_type": "execute_result"
    }
   ],
   "source": [
    "# Lets find out the pearson's correlation between Pclass and Has_Cabin columns\n",
    "df['Pclass'].corr(df['Has_Cabin'], method='pearson')"
   ]
  },
  {
   "cell_type": "markdown",
   "metadata": {},
   "source": [
    "There is a high negative correlation value of Pclass and Cabin. Which means it is strongly correlated."
   ]
  },
  {
   "cell_type": "code",
   "execution_count": 34,
   "metadata": {},
   "outputs": [
    {
     "data": {
      "text/plain": [
       "<matplotlib.text.Text at 0x110c33b10>"
      ]
     },
     "execution_count": 34,
     "metadata": {},
     "output_type": "execute_result"
    },
    {
     "data": {
      "image/png": "[encoded data removed]",
      "text/plain": [
       "<matplotlib.figure.Figure at 0x110b69710>"
      ]
     },
     "metadata": {},
     "output_type": "display_data"
    }
   ],
   "source": [
    "sns.factorplot(x=\"Pclass\", y=\"Has_Cabin\", data=df, saturation=.5, kind=\"bar\")\n",
    "plt.xlabel('Ticket Class', fontsize=14)\n",
    "plt.ylabel('Proportion of Passengers having Cabin', fontsize=12)\n",
    "plt.title('Proportion of passengers with Cabin as per Ticket Class ', fontsize=14)"
   ]
  },
  {
   "cell_type": "markdown",
   "metadata": {},
   "source": [
    "Looks like passengers form first class has been assigned most of the cabins and passengers from second and third class have very few cabins assigned to them. Lets see the numbers in detail."
   ]
  },
  {
   "cell_type": "code",
   "execution_count": 35,
   "metadata": {},
   "outputs": [
    {
     "data": {
      "text/plain": [
       "Pclass\n",
       "1    176\n",
       "2     16\n",
       "3     12\n",
       "Name: Cabin, dtype: int64"
      ]
     },
     "execution_count": 35,
     "metadata": {},
     "output_type": "execute_result"
    }
   ],
   "source": [
    "df.groupby(['Pclass'])['Cabin'].count()"
   ]
  },
  {
   "cell_type": "markdown",
   "metadata": {},
   "source": [
    ">Out of **216** first class passengers **176** have cabins, and the remaining few cabins are distributed among the second and third class. Looks like Pclass is indeed a proxy for socio economic status of the passengers."
   ]
  },
  {
   "cell_type": "markdown",
   "metadata": {},
   "source": [
    ">* Cabin is depending upon the class of the ticket bought, passengers with cabins would have more facilities which could increase the chance of surval, we will try to find the correation now. Passenger having cabins might have wider passage and more lifevests and inflateable boats.\n",
    "\n",
    ">* Passengers with no cabins might have stayed in a common area or hall, they might have paid less.\n",
    "\n",
    ">* Since, there are too many values missing from the cabin field we cannot predict or analyse the overall survial rate. "
   ]
  },
  {
   "cell_type": "markdown",
   "metadata": {},
   "source": [
    "Lets now figure out how the survival rate is related to the Ticket class."
   ]
  },
  {
   "cell_type": "code",
   "execution_count": 36,
   "metadata": {},
   "outputs": [
    {
     "data": {
      "text/plain": [
       "<matplotlib.text.Text at 0x11118abd0>"
      ]
     },
     "execution_count": 36,
     "metadata": {},
     "output_type": "execute_result"
    },
    {
     "data": {
      "image/png": "[encoded data removed]",
      "text/plain": [
       "<matplotlib.figure.Figure at 0x1111222d0>"
      ]
     },
     "metadata": {},
     "output_type": "display_data"
    }
   ],
   "source": [
    "# Lets plot a barplot between Pclass and Survival \n",
    "sns.barplot(x=\"Pclass\", y=\"Survived\", data=df);\n",
    "plt.xlabel('Ticket Class', fontsize=14)\n",
    "plt.ylabel('Proportion of Survived Passengers', fontsize=12)\n",
    "plt.title('Proportion of Survived passengers as per Ticket Class', fontsize=14)"
   ]
  },
  {
   "cell_type": "markdown",
   "metadata": {},
   "source": [
    "Passenger from first class have highest rate of survival followed by second class and the third class passengers have the least survival rate. As we saw in the above analysis that the total number of first class(216) passengers is less than the half of the total number of third class(491) passengers. Indeed passengers with first class have better survival rate than the other two classes.  "
   ]
  },
  {
   "cell_type": "code",
   "execution_count": 37,
   "metadata": {},
   "outputs": [
    {
     "data": {
      "text/plain": [
       "Pclass\n",
       "1.0    136\n",
       "2.0     87\n",
       "3.0    119\n",
       "Name: Survived, dtype: int64"
      ]
     },
     "execution_count": 37,
     "metadata": {},
     "output_type": "execute_result"
    }
   ],
   "source": [
    "# Lets see the numbers in detail.\n",
    "df.groupby(df[survived]['Pclass'])['Survived'].count()"
   ]
  },
  {
   "cell_type": "markdown",
   "metadata": {},
   "source": [
    ">Clearly, the most number of survivals are from the first class, lets see how they look in proportion:\n",
    "* Percentage of first class survival = **62.96%**\n",
    "* Percentage of second class survival = **47.28%**\n",
    "* Percentage of third class survival = **24.23%**\n",
    "\n",
    "Now we are able to see the difference between the survial rates of passengers from different class more clearly. And the first class wins here."
   ]
  },
  {
   "cell_type": "markdown",
   "metadata": {},
   "source": [
    "### SibSp and Parch (Family_Size)"
   ]
  },
  {
   "cell_type": "markdown",
   "metadata": {},
   "source": [
    "SibSp stands for the number of siblings or spouces and Pacrh stands for number of parents or childerns. If we see in the data set the correlation values for Parch and SibSp is similar against all the columns. As discussed above we have added the values both of the columns into a new column Family_Size for our ease of analysis."
   ]
  },
  {
   "cell_type": "code",
   "execution_count": 38,
   "metadata": {},
   "outputs": [
    {
     "data": {
      "text/plain": [
       "<matplotlib.text.Text at 0x111291210>"
      ]
     },
     "execution_count": 38,
     "metadata": {},
     "output_type": "execute_result"
    },
    {
     "data": {
      "image/png": "[encoded data removed]",
      "text/plain": [
       "<matplotlib.figure.Figure at 0x111165e50>"
      ]
     },
     "metadata": {},
     "output_type": "display_data"
    }
   ],
   "source": [
    "# Distribution of the faimily_size \n",
    "sns.countplot(x='Family_Size', data=df)\n",
    "sns.barplot(x=df.Family_Size.value_counts().index,y=df.Family_Size.value_counts(), data=df);\n",
    "plt.xlabel('Family Size', fontsize=10)\n",
    "plt.ylabel('Count of the Passengers', fontsize=12)\n",
    "plt.title('Count of passengers as per Family size ', fontsize=16)"
   ]
  },
  {
   "cell_type": "markdown",
   "metadata": {},
   "source": [
    "The above plot shows the number of passengers corresponding to their family size, y axis represents the count of the passengers corresponding to the family size from x-axis. It looks like there are more numbers of passengers who are travelling alone. Let us group them into groups of single, small family and big family to have a more clear sence of the data."
   ]
  },
  {
   "cell_type": "code",
   "execution_count": 39,
   "metadata": {},
   "outputs": [
    {
     "name": "stdout",
     "output_type": "stream",
     "text": [
      "Family_Size\n",
      "0     537\n",
      "1     161\n",
      "2     102\n",
      "3      29\n",
      "4      15\n",
      "5      22\n",
      "6      12\n",
      "7       6\n",
      "10      7\n",
      "Name: Family_Size, dtype: int64 \n",
      "\n",
      "\n",
      "Family_Categoty\n",
      "Big_Family       47\n",
      "Single          537\n",
      "Small_Family    307\n",
      "Name: Family_Categoty, dtype: int64\n"
     ]
    }
   ],
   "source": [
    "# Lets have a closer look\n",
    "print df.groupby(['Family_Size']).Family_Size.count(), '\\n\\n'\n",
    "print df.groupby(['Family_Categoty']).Family_Categoty.count()"
   ]
  },
  {
   "cell_type": "code",
   "execution_count": 40,
   "metadata": {},
   "outputs": [
    {
     "data": {
      "text/plain": [
       "<matplotlib.text.Text at 0x11147ec50>"
      ]
     },
     "execution_count": 40,
     "metadata": {},
     "output_type": "execute_result"
    },
    {
     "data": {
      "image/png": "[encoded data removed]",
      "text/plain": [
       "<matplotlib.figure.Figure at 0x110ace110>"
      ]
     },
     "metadata": {},
     "output_type": "display_data"
    }
   ],
   "source": [
    "# Lets see how the survival is affected by the family size.\n",
    "sns.barplot(x = 'Family_Categoty', y ='Survived', data=df);\n",
    "plt.xlabel('Family Categoty', fontsize=10)\n",
    "plt.ylabel('Survival of the families in Percentile', fontsize=12)\n",
    "plt.title('Count of Survived passengers as Family Size', fontsize=16)"
   ]
  },
  {
   "cell_type": "markdown",
   "metadata": {},
   "source": [
    "Looks like passengers with small family size(1-4) have a better rate of survival, even more than singles, passengers with big families have the least survival rate. \n",
    "\n",
    "Let us find out in more detail and see the exact number of the survival from each family group."
   ]
  },
  {
   "cell_type": "code",
   "execution_count": 41,
   "metadata": {},
   "outputs": [
    {
     "data": {
      "text/plain": [
       "Family_Categoty\n",
       "Big_Family        7\n",
       "Single          163\n",
       "Small_Family    172\n",
       "Name: Family_Categoty, dtype: int64"
      ]
     },
     "execution_count": 41,
     "metadata": {},
     "output_type": "execute_result"
    }
   ],
   "source": [
    "# number of survived passengers as per the family group\n",
    "df[survived].groupby(['Family_Categoty']).Family_Categoty.count()"
   ]
  },
  {
   "cell_type": "markdown",
   "metadata": {},
   "source": [
    "As we saw that the passengers with small family had the most number of survivals followed by the singles and passengers with big families had the least survival rate, let see the percentage so that we can tell more about the data.\n",
    "* **30.35%** of passengers survived who were single.\n",
    "* **56.02%** of People survived beloning to family of size 1-4.\n",
    "* **14.89%** of passengers survived who belonged to big families of size 5-8 members."
   ]
  },
  {
   "cell_type": "markdown",
   "metadata": {},
   "source": [
    ">The most survivors belonged to small family size, it seems that people who belonged to the family of size 1-4 helped each other and worked as a team resulting in most number of survivals. Passengers who were single might have had very few people to help them resulting in less survival percentage. And people belonging from big families had a tough time rescuing all the members resulting in less survivals."
   ]
  },
  {
   "cell_type": "markdown",
   "metadata": {},
   "source": [
    "### Embarked - Port of Embarkation"
   ]
  },
  {
   "cell_type": "markdown",
   "metadata": {},
   "source": [
    "The Embarked column stands for the port of Embarkation of the passengers, there are three ports of Embarkation 1 = C = Cherbourg, 2 = Q = Queenstown, 3 = S = Southampton. Let us analyse what it tells about the data."
   ]
  },
  {
   "cell_type": "code",
   "execution_count": 42,
   "metadata": {},
   "outputs": [
    {
     "data": {
      "text/plain": [
       "<matplotlib.text.Text at 0x1115e7dd0>"
      ]
     },
     "execution_count": 42,
     "metadata": {},
     "output_type": "execute_result"
    },
    {
     "data": {
      "image/png": "[encoded data removed]",
      "text/plain": [
       "<matplotlib.figure.Figure at 0x111519ed0>"
      ]
     },
     "metadata": {},
     "output_type": "display_data"
    }
   ],
   "source": [
    "# Plot the distribution\n",
    "sns.countplot(x='Embarked_Port', data=df)\n",
    "sns.barplot(x=df.Embarked_Port.value_counts().index,y=df.Embarked_Port.value_counts(), data=df);\n",
    "plt.xlabel('Port of Embarkation', fontsize=18)\n",
    "plt.ylabel('Count of the Passengers', fontsize=16)\n",
    "plt.title('Count of passengers Embarked at port', fontsize=14)"
   ]
  },
  {
   "cell_type": "markdown",
   "metadata": {},
   "source": [
    "Most of the passengers boarded at Southampton port followed by Cherbourg, few passengers boarded from Queenstown port."
   ]
  },
  {
   "cell_type": "code",
   "execution_count": 43,
   "metadata": {},
   "outputs": [
    {
     "data": {
      "text/plain": [
       "Embarked\n",
       "C    170\n",
       "Q     77\n",
       "S    644\n",
       "Name: Embarked, dtype: int64"
      ]
     },
     "execution_count": 43,
     "metadata": {},
     "output_type": "execute_result"
    }
   ],
   "source": [
    "# Lets see the numbers\n",
    "df.groupby(['Embarked']).Embarked.count()"
   ]
  },
  {
   "cell_type": "code",
   "execution_count": 44,
   "metadata": {},
   "outputs": [
    {
     "data": {
      "text/plain": [
       "Embarked\n",
       "C     95\n",
       "Q     30\n",
       "S    217\n",
       "Name: Embarked, dtype: int64"
      ]
     },
     "execution_count": 44,
     "metadata": {},
     "output_type": "execute_result"
    }
   ],
   "source": [
    "# Number of survived passengers from the Embarked ports\n",
    "df[survived].groupby(['Embarked']).Embarked.count()"
   ]
  },
  {
   "cell_type": "markdown",
   "metadata": {},
   "source": [
    "Percentage survial by the port of embarkation:\n",
    "* Cherbourg - 55.88%\n",
    "* Queenstown - 38.96%\n",
    "* Southampton - 33.69%\n"
   ]
  },
  {
   "cell_type": "markdown",
   "metadata": {},
   "source": [
    ">The decided route for the ship was from Southampton to New York City. After leaving Southampton on 10 April 1912, Titanic called at Cherbourg in France and Queenstown (now Cobh) in Ireland before heading west to New York.\n",
    "\n",
    ">Southampton, being on the south coast, allowed ships to easily cross the English Channel and make a port of call on the northern coast of France, usually at Cherbourg. This allowed British ships to pick up clientele from continental Europe before recrossing the channel and picking up passengers at Queenstown. [Reference](https://en.wikipedia.org/wiki/RMS_Titanic) [[2](#Refernces)]"
   ]
  },
  {
   "cell_type": "markdown",
   "metadata": {},
   "source": [
    "After reading the above article from the internet, I got to know that the ship route of the ship was in order:\n",
    "**Southampton -> Cherbourg -> Queenstown**.\n",
    "\n",
    "Let us see how the Fare is affected by the port of embarkation."
   ]
  },
  {
   "cell_type": "code",
   "execution_count": 45,
   "metadata": {},
   "outputs": [
    {
     "data": {
      "text/plain": [
       "<matplotlib.text.Text at 0x111764c90>"
      ]
     },
     "execution_count": 45,
     "metadata": {},
     "output_type": "execute_result"
    },
    {
     "data": {
      "image/png": "[encoded data removed]",
      "text/plain": [
       "<matplotlib.figure.Figure at 0x11118a190>"
      ]
     },
     "metadata": {},
     "output_type": "display_data"
    }
   ],
   "source": [
    "sns.factorplot(x=\"Fare\", y=\"Embarked_Port\",data=df,kind=\"strip\", size=5)\n",
    "plt.xlabel('Fare Paid by passengers', fontsize=10)\n",
    "plt.ylabel('Port of Embarkation', fontsize=12)\n",
    "plt.title('Fare paid by passengers as per port of Embarkation', fontsize=16)"
   ]
  },
  {
   "cell_type": "markdown",
   "metadata": {},
   "source": [
    "From the above factorplot we can see that people with Cherbourg as port of embarkation paid the most Fare. But still wr cannot generalize this fact because the fare paid is hihgly correlate to the ticket class as well."
   ]
  },
  {
   "cell_type": "markdown",
   "metadata": {},
   "source": [
    "### Heatmap displaying the correation among the features of the Titanic dataset"
   ]
  },
  {
   "cell_type": "code",
   "execution_count": 46,
   "metadata": {},
   "outputs": [
    {
     "data": {
      "text/plain": [
       "<matplotlib.axes._subplots.AxesSubplot at 0x111893350>"
      ]
     },
     "execution_count": 46,
     "metadata": {},
     "output_type": "execute_result"
    },
    {
     "data": {
      "image/png": "[encoded data removed]",
      "text/plain": [
       "<matplotlib.figure.Figure at 0x11193bf50>"
      ]
     },
     "metadata": {},
     "output_type": "display_data"
    }
   ],
   "source": [
    "titanic_corr = df.corr(method='pearson')\n",
    "#print(corr)\n",
    "plt.figure(figsize=(10,7.5))\n",
    "sns.heatmap(titanic_corr, annot=True, fmt=\".2f\")"
   ]
  },
  {
   "cell_type": "markdown",
   "metadata": {},
   "source": [
    "*The above heatmap shows the correlation among the various features from out dataset, the meeting points with the darker shades have high correlation values.*"
   ]
  },
  {
   "cell_type": "markdown",
   "metadata": {},
   "source": [
    "---"
   ]
  },
  {
   "cell_type": "markdown",
   "metadata": {},
   "source": [
    "## Conclusion"
   ]
  },
  {
   "cell_type": "markdown",
   "metadata": {},
   "source": [
    "Although the results of my analysis are provisional, it indicates that the survival of passengers are highly correlated to Sex,  Socio economic status(Pclass) and Size of the family; from the detailed analyses age did not seem to be a major factor. \n",
    "\n",
    "Answering the questions which came in my mind in the begining of the analyses; it looks like women and children had a better rate of survival than the other passengers. Though age was not a big factor of survival most number of passenger who survived belonged to the age age group below 20 years. The Socio economic status was highly correlated to the survival of the passengers, passengers travelling first class had the better chances of survival than the other class. In my analyses family size also seemed to be related with the rate of the survival passengers tavelling in small family sizes had most survial rate than the singles or the ones with the big families. The port of embarkation did not seem to play a major role in the survival of the passengers on board.\n",
    "\n",
    "Even from the detailed analyses the results are still tentative, there are several limitations while generalizing the chances of survival of the passengers. For example, eventhough the females and children were more likely to survive but what if a lot of females belonged to first class, or were from small family sizes. The other limitation in the analyses was the missing data, a lot of age values were missing which was replaced by median age values, which impacted a lot of factos in our analyses. There were almost three fourth data was missing from the cabin column as well which led us generalizing few facts. If we had values from the missing fields specially from age and cabin our analyses would have been better."
   ]
  },
  {
   "cell_type": "markdown",
   "metadata": {},
   "source": [
    "---"
   ]
  },
  {
   "cell_type": "markdown",
   "metadata": {},
   "source": [
    "## Refernces"
   ]
  },
  {
   "cell_type": "markdown",
   "metadata": {},
   "source": [
    "1. https://discussions.udacity.com/t/titanic-fixing-data-types/188923/11\n",
    "2. https://www.kaggle.com/c/titanic/data\n",
    "3. https://seaborn.pydata.org/\n",
    "4. https://pandas.pydata.org/pandas-docs/stable/\n",
    "5. https://stackoverflow.com/\n",
    "6. https://en.wikipedia.org/wiki/RMS_Titanic"
   ]
  },
  {
   "cell_type": "markdown",
   "metadata": {},
   "source": [
    "---"
   ]
  },
  {
   "cell_type": "code",
   "execution_count": null,
   "metadata": {
    "collapsed": true
   },
   "outputs": [],
   "source": []
  }
 ],
 "metadata": {
  "kernelspec": {
   "display_name": "Python [conda env:python2.7]",
   "language": "python",
   "name": "conda-env-python2.7-py"
  },
  "language_info": {
   "codemirror_mode": {
    "name": "ipython",
    "version": 2
   },
   "file_extension": ".py",
   "mimetype": "text/x-python",
   "name": "python",
   "nbconvert_exporter": "python",
   "pygments_lexer": "ipython2",
   "version": "2.7.13"
  }
 },
 "nbformat": 4,
 "nbformat_minor": 2
}
